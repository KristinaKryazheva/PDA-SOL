{
 "cells": [
  {
   "cell_type": "markdown",
   "metadata": {
    "id": "P3qNryfuKeI8"
   },
   "source": [
    "# Практическая работа 2. Источники данных. Извлечение данных"
   ]
  },
  {
   "cell_type": "markdown",
   "metadata": {
    "id": "_2zMItYSgrbH"
   },
   "source": [
    "ФИО: Кряжева К.С.\n",
    "\n",
    "Группа: БД-231"
   ]
  },
  {
   "cell_type": "code",
   "execution_count": null,
   "metadata": {},
   "outputs": [],
   "source": [
    "## Задание 2.1 "
   ]
  },
  {
   "cell_type": "code",
   "execution_count": 1,
   "metadata": {
    "id": "nT98csOGMCHT"
   },
   "outputs": [],
   "source": [
    "# import modules\n",
    "import certifi\n",
    "import json\n",
    "import pandas as pd\n",
    "import numpy as np\n",
    "import matplotlib.pyplot as plt\n",
    "import sqlite3\n",
    "import urllib3\n",
    "from urllib3 import request\n",
    "from unicodedata import normalize"
   ]
  },
  {
   "cell_type": "markdown",
   "metadata": {
    "id": "gELKRi7_LbcR"
   },
   "source": [
    "Файлы данных могут быть получены откуда угодно: от файлов, хранящихся локально на вашем устройстве, до файловых систем облачного хранилища.\n",
    "\n",
    "Даже при работе в основном с базами данных или внешними `API` использование физических файлов — отличный способ легко использовать данные с метками времени, что может пригодиться при любых временных проблемах с подключением."
   ]
  },
  {
   "cell_type": "code",
   "execution_count": 2,
   "metadata": {
    "id": "VcorFH1UIxRv"
   },
   "outputs": [],
   "source": [
    "# Загрузите данные с портала открытых данных Правительства Москвы —\n",
    "# данные о Wi-Fi в кинотеатрах, введя в браузер следующий URL-адрес: https://data.mos.ru/opendata/60789?isDynamic=false.\n",
    "# Будет загружен CSV-файл *.csv. Сохраните этот файл.\n",
    "# прочитать данные CSV, используя команду Pandas pd.read_csv() в качестве df DataFrame, затем выберите первые пять строк DataFrame с помощью df.head()."
   ]
  },
  {
   "cell_type": "markdown",
   "metadata": {
    "id": "ea8l3d-XMYvH"
   },
   "source": [
    "**Задание 2.1.** Зайти на сайт URL-адрес: https://data.mos.ru/opendata/60789?isDynamic=false\n",
    "\n",
    "**Задание 2.2.** Загрузить данные о `Wi-Fi в кинотеатрах`.\n",
    "\n",
    "**Задание 2.3.** Считайте данные из файла CSV. Использовать метод `pandas read_csv` для простоты и скорости."
   ]
  },
  {
   "cell_type": "code",
   "execution_count": 2,
   "metadata": {
    "colab": {
     "base_uri": "https://localhost:8080/",
     "height": 486
    },
    "id": "BlGgzX6-MORB",
    "outputId": "b2a6a9ac-16a5-46ef-a3ac-2010264b2962"
   },
   "outputs": [
    {
     "data": {
      "text/html": [
       "<div>\n",
       "<style scoped>\n",
       "    .dataframe tbody tr th:only-of-type {\n",
       "        vertical-align: middle;\n",
       "    }\n",
       "\n",
       "    .dataframe tbody tr th {\n",
       "        vertical-align: top;\n",
       "    }\n",
       "\n",
       "    .dataframe thead th {\n",
       "        text-align: right;\n",
       "    }\n",
       "</style>\n",
       "<table border=\"1\" class=\"dataframe\">\n",
       "  <thead>\n",
       "    <tr style=\"text-align: right;\">\n",
       "      <th></th>\n",
       "      <th>global_id</th>\n",
       "      <th>ID</th>\n",
       "      <th>CinemaName</th>\n",
       "      <th>AdmArea</th>\n",
       "      <th>District</th>\n",
       "      <th>Address</th>\n",
       "      <th>NumberOfAccessPoints</th>\n",
       "      <th>WiFiName</th>\n",
       "      <th>CoverageArea</th>\n",
       "      <th>FunctionFlag</th>\n",
       "      <th>AccessFlag</th>\n",
       "      <th>Password</th>\n",
       "      <th>Latitude_WGS84</th>\n",
       "      <th>Longitude_WGS84</th>\n",
       "      <th>geoData</th>\n",
       "      <th>geodata_center</th>\n",
       "      <th>Unnamed: 16</th>\n",
       "    </tr>\n",
       "  </thead>\n",
       "  <tbody>\n",
       "    <tr>\n",
       "      <th>0</th>\n",
       "      <td>global_id</td>\n",
       "      <td>Код</td>\n",
       "      <td>Наименование кинотеатра</td>\n",
       "      <td>Административный округ</td>\n",
       "      <td>Район</td>\n",
       "      <td>Адрес</td>\n",
       "      <td>Количество точек доступа</td>\n",
       "      <td>Имя Wi-Fi сети</td>\n",
       "      <td>Зона покрытия, в метрах</td>\n",
       "      <td>Признак функционирования</td>\n",
       "      <td>Условия доступа</td>\n",
       "      <td>Пароль</td>\n",
       "      <td>Широта в WGS-84</td>\n",
       "      <td>Долгота в WGS-84</td>\n",
       "      <td>geoData</td>\n",
       "      <td>geodata_center</td>\n",
       "      <td>NaN</td>\n",
       "    </tr>\n",
       "    <tr>\n",
       "      <th>1</th>\n",
       "      <td>879791944</td>\n",
       "      <td>1</td>\n",
       "      <td>Государственное бюджетное учреждение культуры ...</td>\n",
       "      <td>Северо-Восточный административный округ</td>\n",
       "      <td>Останкинский район</td>\n",
       "      <td>Российская Федерация, город Москва, внутригоро...</td>\n",
       "      <td>7</td>\n",
       "      <td>Moscow_WiFi_Free</td>\n",
       "      <td>50</td>\n",
       "      <td>действует</td>\n",
       "      <td>открытая сеть</td>\n",
       "      <td>NaN</td>\n",
       "      <td>55.818675</td>\n",
       "      <td>37.636778</td>\n",
       "      <td>{coordinates=[37.636778, 55.818675], type=Point}</td>\n",
       "      <td>NaN</td>\n",
       "      <td>NaN</td>\n",
       "    </tr>\n",
       "    <tr>\n",
       "      <th>2</th>\n",
       "      <td>879791951</td>\n",
       "      <td>3</td>\n",
       "      <td>Государственное бюджетное учреждение культуры ...</td>\n",
       "      <td>Юго-Восточный административный округ</td>\n",
       "      <td>район Печатники</td>\n",
       "      <td>город Москва, улица Кухмистерова, дом 4</td>\n",
       "      <td>8</td>\n",
       "      <td>Moscow_WiFi_Free</td>\n",
       "      <td>50</td>\n",
       "      <td>действует</td>\n",
       "      <td>открытая сеть</td>\n",
       "      <td>NaN</td>\n",
       "      <td>55.685873</td>\n",
       "      <td>37.718534</td>\n",
       "      <td>{coordinates=[37.718534, 55.685873], type=Point}</td>\n",
       "      <td>NaN</td>\n",
       "      <td>NaN</td>\n",
       "    </tr>\n",
       "    <tr>\n",
       "      <th>3</th>\n",
       "      <td>879791953</td>\n",
       "      <td>4</td>\n",
       "      <td>Государственное бюджетное учреждение культуры ...</td>\n",
       "      <td>Юго-Восточный административный округ</td>\n",
       "      <td>район Текстильщики</td>\n",
       "      <td>Российская Федерация, город Москва, внутригоро...</td>\n",
       "      <td>6</td>\n",
       "      <td>Moscow_WiFi_Free</td>\n",
       "      <td>50</td>\n",
       "      <td>действует</td>\n",
       "      <td>открытая сеть</td>\n",
       "      <td>NaN</td>\n",
       "      <td>55.710864</td>\n",
       "      <td>37.731299</td>\n",
       "      <td>{coordinates=[37.731299, 55.710864], type=Point}</td>\n",
       "      <td>NaN</td>\n",
       "      <td>NaN</td>\n",
       "    </tr>\n",
       "    <tr>\n",
       "      <th>4</th>\n",
       "      <td>879791961</td>\n",
       "      <td>7</td>\n",
       "      <td>Государственное бюджетное учреждение культуры ...</td>\n",
       "      <td>Северный административный округ</td>\n",
       "      <td>Тимирязевский район</td>\n",
       "      <td>Российская Федерация, город Москва, внутригоро...</td>\n",
       "      <td>3</td>\n",
       "      <td>Moscow_WiFi_Free</td>\n",
       "      <td>50</td>\n",
       "      <td>действует</td>\n",
       "      <td>открытая сеть</td>\n",
       "      <td>NaN</td>\n",
       "      <td>55.814406</td>\n",
       "      <td>37.571210</td>\n",
       "      <td>{coordinates=[37.57121, 55.814406], type=Point}</td>\n",
       "      <td>NaN</td>\n",
       "      <td>NaN</td>\n",
       "    </tr>\n",
       "  </tbody>\n",
       "</table>\n",
       "</div>"
      ],
      "text/plain": [
       "   global_id   ID                                         CinemaName  \\\n",
       "0  global_id  Код                            Наименование кинотеатра   \n",
       "1  879791944    1  Государственное бюджетное учреждение культуры ...   \n",
       "2  879791951    3  Государственное бюджетное учреждение культуры ...   \n",
       "3  879791953    4  Государственное бюджетное учреждение культуры ...   \n",
       "4  879791961    7  Государственное бюджетное учреждение культуры ...   \n",
       "\n",
       "                                   AdmArea             District  \\\n",
       "0                   Административный округ                Район   \n",
       "1  Северо-Восточный административный округ   Останкинский район   \n",
       "2     Юго-Восточный административный округ      район Печатники   \n",
       "3     Юго-Восточный административный округ   район Текстильщики   \n",
       "4          Северный административный округ  Тимирязевский район   \n",
       "\n",
       "                                             Address  \\\n",
       "0                                              Адрес   \n",
       "1  Российская Федерация, город Москва, внутригоро...   \n",
       "2            город Москва, улица Кухмистерова, дом 4   \n",
       "3  Российская Федерация, город Москва, внутригоро...   \n",
       "4  Российская Федерация, город Москва, внутригоро...   \n",
       "\n",
       "       NumberOfAccessPoints          WiFiName             CoverageArea  \\\n",
       "0  Количество точек доступа    Имя Wi-Fi сети  Зона покрытия, в метрах   \n",
       "1                         7  Moscow_WiFi_Free                       50   \n",
       "2                         8  Moscow_WiFi_Free                       50   \n",
       "3                         6  Moscow_WiFi_Free                       50   \n",
       "4                         3  Moscow_WiFi_Free                       50   \n",
       "\n",
       "               FunctionFlag       AccessFlag Password   Latitude_WGS84  \\\n",
       "0  Признак функционирования  Условия доступа   Пароль  Широта в WGS-84   \n",
       "1                 действует    открытая сеть      NaN        55.818675   \n",
       "2                 действует    открытая сеть      NaN        55.685873   \n",
       "3                 действует    открытая сеть      NaN        55.710864   \n",
       "4                 действует    открытая сеть      NaN        55.814406   \n",
       "\n",
       "    Longitude_WGS84                                           geoData  \\\n",
       "0  Долгота в WGS-84                                           geoData   \n",
       "1         37.636778  {coordinates=[37.636778, 55.818675], type=Point}   \n",
       "2         37.718534  {coordinates=[37.718534, 55.685873], type=Point}   \n",
       "3         37.731299  {coordinates=[37.731299, 55.710864], type=Point}   \n",
       "4         37.571210   {coordinates=[37.57121, 55.814406], type=Point}   \n",
       "\n",
       "   geodata_center  Unnamed: 16  \n",
       "0  geodata_center          NaN  \n",
       "1             NaN          NaN  \n",
       "2             NaN          NaN  \n",
       "3             NaN          NaN  \n",
       "4             NaN          NaN  "
      ]
     },
     "execution_count": 2,
     "metadata": {},
     "output_type": "execute_result"
    }
   ],
   "source": [
    "df_csv = pd.read_csv(r\"C:\\Users\\Kristina\\Downloads\\60789CSV\\data-60789-2024-01-24.csv\", delimiter=';')\n",
    "df_csv.head()"
   ]
  },
  {
   "cell_type": "markdown",
   "metadata": {
    "id": "5WdAK8nhSas0"
   },
   "source": [
    "**Задание 2.4.** Так как первая строка включает определение столбцов, удалить строку с `index=0`."
   ]
  },
  {
   "cell_type": "code",
   "execution_count": 3,
   "metadata": {
    "id": "lUqpf79kSN_p"
   },
   "outputs": [],
   "source": [
    "data = df_csv.drop(df_csv.index[0])"
   ]
  },
  {
   "cell_type": "code",
   "execution_count": 4,
   "metadata": {
    "colab": {
     "base_uri": "https://localhost:8080/",
     "height": 1000
    },
    "id": "xYi52qTBST3k",
    "outputId": "e9d71ff8-a98f-44d0-b90d-eeb48b51c40b"
   },
   "outputs": [
    {
     "data": {
      "text/html": [
       "<div>\n",
       "<style scoped>\n",
       "    .dataframe tbody tr th:only-of-type {\n",
       "        vertical-align: middle;\n",
       "    }\n",
       "\n",
       "    .dataframe tbody tr th {\n",
       "        vertical-align: top;\n",
       "    }\n",
       "\n",
       "    .dataframe thead th {\n",
       "        text-align: right;\n",
       "    }\n",
       "</style>\n",
       "<table border=\"1\" class=\"dataframe\">\n",
       "  <thead>\n",
       "    <tr style=\"text-align: right;\">\n",
       "      <th></th>\n",
       "      <th>global_id</th>\n",
       "      <th>ID</th>\n",
       "      <th>CinemaName</th>\n",
       "      <th>AdmArea</th>\n",
       "      <th>District</th>\n",
       "      <th>Address</th>\n",
       "      <th>NumberOfAccessPoints</th>\n",
       "      <th>WiFiName</th>\n",
       "      <th>CoverageArea</th>\n",
       "      <th>FunctionFlag</th>\n",
       "      <th>AccessFlag</th>\n",
       "      <th>Password</th>\n",
       "      <th>Latitude_WGS84</th>\n",
       "      <th>Longitude_WGS84</th>\n",
       "      <th>geoData</th>\n",
       "      <th>geodata_center</th>\n",
       "      <th>Unnamed: 16</th>\n",
       "    </tr>\n",
       "  </thead>\n",
       "  <tbody>\n",
       "    <tr>\n",
       "      <th>1</th>\n",
       "      <td>879791944</td>\n",
       "      <td>1</td>\n",
       "      <td>Государственное бюджетное учреждение культуры ...</td>\n",
       "      <td>Северо-Восточный административный округ</td>\n",
       "      <td>Останкинский район</td>\n",
       "      <td>Российская Федерация, город Москва, внутригоро...</td>\n",
       "      <td>7</td>\n",
       "      <td>Moscow_WiFi_Free</td>\n",
       "      <td>50</td>\n",
       "      <td>действует</td>\n",
       "      <td>открытая сеть</td>\n",
       "      <td>NaN</td>\n",
       "      <td>55.818675</td>\n",
       "      <td>37.636778</td>\n",
       "      <td>{coordinates=[37.636778, 55.818675], type=Point}</td>\n",
       "      <td>NaN</td>\n",
       "      <td>NaN</td>\n",
       "    </tr>\n",
       "    <tr>\n",
       "      <th>2</th>\n",
       "      <td>879791951</td>\n",
       "      <td>3</td>\n",
       "      <td>Государственное бюджетное учреждение культуры ...</td>\n",
       "      <td>Юго-Восточный административный округ</td>\n",
       "      <td>район Печатники</td>\n",
       "      <td>город Москва, улица Кухмистерова, дом 4</td>\n",
       "      <td>8</td>\n",
       "      <td>Moscow_WiFi_Free</td>\n",
       "      <td>50</td>\n",
       "      <td>действует</td>\n",
       "      <td>открытая сеть</td>\n",
       "      <td>NaN</td>\n",
       "      <td>55.685873</td>\n",
       "      <td>37.718534</td>\n",
       "      <td>{coordinates=[37.718534, 55.685873], type=Point}</td>\n",
       "      <td>NaN</td>\n",
       "      <td>NaN</td>\n",
       "    </tr>\n",
       "  </tbody>\n",
       "</table>\n",
       "</div>"
      ],
      "text/plain": [
       "   global_id ID                                         CinemaName  \\\n",
       "1  879791944  1  Государственное бюджетное учреждение культуры ...   \n",
       "2  879791951  3  Государственное бюджетное учреждение культуры ...   \n",
       "\n",
       "                                   AdmArea            District  \\\n",
       "1  Северо-Восточный административный округ  Останкинский район   \n",
       "2     Юго-Восточный административный округ     район Печатники   \n",
       "\n",
       "                                             Address NumberOfAccessPoints  \\\n",
       "1  Российская Федерация, город Москва, внутригоро...                    7   \n",
       "2            город Москва, улица Кухмистерова, дом 4                    8   \n",
       "\n",
       "           WiFiName CoverageArea FunctionFlag     AccessFlag Password  \\\n",
       "1  Moscow_WiFi_Free           50    действует  открытая сеть      NaN   \n",
       "2  Moscow_WiFi_Free           50    действует  открытая сеть      NaN   \n",
       "\n",
       "  Latitude_WGS84 Longitude_WGS84  \\\n",
       "1      55.818675       37.636778   \n",
       "2      55.685873       37.718534   \n",
       "\n",
       "                                            geoData geodata_center  \\\n",
       "1  {coordinates=[37.636778, 55.818675], type=Point}            NaN   \n",
       "2  {coordinates=[37.718534, 55.685873], type=Point}            NaN   \n",
       "\n",
       "   Unnamed: 16  \n",
       "1          NaN  \n",
       "2          NaN  "
      ]
     },
     "execution_count": 4,
     "metadata": {},
     "output_type": "execute_result"
    }
   ],
   "source": [
    "data.head(2)"
   ]
  },
  {
   "cell_type": "code",
   "execution_count": 5,
   "metadata": {},
   "outputs": [
    {
     "name": "stdout",
     "output_type": "stream",
     "text": [
      "<class 'pandas.core.frame.DataFrame'>\n",
      "RangeIndex: 12 entries, 0 to 11\n",
      "Data columns (total 17 columns):\n",
      " #   Column                Non-Null Count  Dtype  \n",
      "---  ------                --------------  -----  \n",
      " 0   global_id             12 non-null     object \n",
      " 1   ID                    12 non-null     object \n",
      " 2   CinemaName            12 non-null     object \n",
      " 3   AdmArea               12 non-null     object \n",
      " 4   District              12 non-null     object \n",
      " 5   Address               12 non-null     object \n",
      " 6   NumberOfAccessPoints  12 non-null     object \n",
      " 7   WiFiName              12 non-null     object \n",
      " 8   CoverageArea          12 non-null     object \n",
      " 9   FunctionFlag          12 non-null     object \n",
      " 10  AccessFlag            12 non-null     object \n",
      " 11  Password              1 non-null      object \n",
      " 12  Latitude_WGS84        12 non-null     object \n",
      " 13  Longitude_WGS84       12 non-null     object \n",
      " 14  geoData               12 non-null     object \n",
      " 15  geodata_center        1 non-null      object \n",
      " 16  Unnamed: 16           0 non-null      float64\n",
      "dtypes: float64(1), object(16)\n",
      "memory usage: 1.7+ KB\n"
     ]
    }
   ],
   "source": [
    "df_csv.info()"
   ]
  },
  {
   "cell_type": "code",
   "execution_count": 6,
   "metadata": {},
   "outputs": [
    {
     "data": {
      "text/html": [
       "<div>\n",
       "<style scoped>\n",
       "    .dataframe tbody tr th:only-of-type {\n",
       "        vertical-align: middle;\n",
       "    }\n",
       "\n",
       "    .dataframe tbody tr th {\n",
       "        vertical-align: top;\n",
       "    }\n",
       "\n",
       "    .dataframe thead th {\n",
       "        text-align: right;\n",
       "    }\n",
       "</style>\n",
       "<table border=\"1\" class=\"dataframe\">\n",
       "  <thead>\n",
       "    <tr style=\"text-align: right;\">\n",
       "      <th></th>\n",
       "      <th>ID</th>\n",
       "    </tr>\n",
       "    <tr>\n",
       "      <th>AdmArea</th>\n",
       "      <th></th>\n",
       "    </tr>\n",
       "  </thead>\n",
       "  <tbody>\n",
       "    <tr>\n",
       "      <th>Юго-Восточный административный округ</th>\n",
       "      <td>4</td>\n",
       "    </tr>\n",
       "    <tr>\n",
       "      <th>Северо-Восточный административный округ</th>\n",
       "      <td>3</td>\n",
       "    </tr>\n",
       "    <tr>\n",
       "      <th>Юго-Западный административный округ</th>\n",
       "      <td>2</td>\n",
       "    </tr>\n",
       "    <tr>\n",
       "      <th>Восточный административный округ</th>\n",
       "      <td>1</td>\n",
       "    </tr>\n",
       "    <tr>\n",
       "      <th>Северный административный округ</th>\n",
       "      <td>1</td>\n",
       "    </tr>\n",
       "  </tbody>\n",
       "</table>\n",
       "</div>"
      ],
      "text/plain": [
       "                                         ID\n",
       "AdmArea                                    \n",
       "Юго-Восточный административный округ      4\n",
       "Северо-Восточный административный округ   3\n",
       "Юго-Западный административный округ       2\n",
       "Восточный административный округ          1\n",
       "Северный административный округ           1"
      ]
     },
     "execution_count": 6,
     "metadata": {},
     "output_type": "execute_result"
    }
   ],
   "source": [
    "data.pivot_table(index='AdmArea', values='ID', aggfunc='count').sort_values(by='ID', ascending=False)"
   ]
  },
  {
   "cell_type": "code",
   "execution_count": 7,
   "metadata": {},
   "outputs": [
    {
     "data": {
      "text/plain": [
       "<Axes: xlabel='AdmArea'>"
      ]
     },
     "execution_count": 7,
     "metadata": {},
     "output_type": "execute_result"
    },
    {
     "data": {
      "image/png": "[encoded data removed]",
      "text/plain": [
       "<Figure size 640x480 with 1 Axes>"
      ]
     },
     "metadata": {},
     "output_type": "display_data"
    }
   ],
   "source": [
    "data.pivot_table(index='AdmArea', values='ID', aggfunc='count').sort_values(by='ID', ascending=False).plot(kind='bar')"
   ]
  },
  {
   "cell_type": "markdown",
   "metadata": {
    "id": "5fyK9BVFe2cX"
   },
   "source": [
    "**Задание 2.5.** Выполнить парсинг веб-страницы с помощью `JSON`"
   ]
  },
  {
   "cell_type": "code",
   "execution_count": 8,
   "metadata": {
    "id": "mZX5Wy5nS4I8"
   },
   "outputs": [],
   "source": [
    "# Импорт стандартных пакетов\n",
    "import pandas as pd\n",
    "\n",
    "# Для парсинга веб-страниц\n",
    "import requests as reqs\n",
    "import urllib.request\n",
    "from bs4 import BeautifulSoup\n",
    "import json\n",
    "import os\n",
    "import pprint\n",
    "\n",
    "# Для выполнения операций с регулярными выражениями\n",
    "import re"
   ]
  },
  {
   "cell_type": "code",
   "execution_count": 9,
   "metadata": {
    "id": "4PjIZEI8bYdJ"
   },
   "outputs": [],
   "source": [
    "resp = reqs.request(method='GET', url='https://apidata.mos.ru/v1/datasets/60789/features?api_key=d4a90fd5-f352-4206-a8d7-da61d1e66da0')"
   ]
  },
  {
   "cell_type": "markdown",
   "metadata": {
    "id": "j5kHmjTQgGuU"
   },
   "source": [
    "**Задание 2.6.** Выполнить парсинг веб-страницы с помощью `JSON`. Получите URL-адрес:"
   ]
  },
  {
   "cell_type": "code",
   "execution_count": 10,
   "metadata": {
    "id": "V4MT_7fKgKDE"
   },
   "outputs": [
    {
     "name": "stdout",
     "output_type": "stream",
     "text": [
      "URL: \n",
      "\t https://apidata.mos.ru/v1/datasets/60789/features?api_key=d4a90fd5-f352-4206-a8d7-da61d1e66da0\n"
     ]
    }
   ],
   "source": [
    "print(f\"URL: \\n\\t {resp.url}\")"
   ]
  },
  {
   "cell_type": "markdown",
   "metadata": {
    "id": "ZONlhgElgVhZ"
   },
   "source": [
    "**Задание 2.7.** Выполнить парсинг веб-страницы с помощью `JSON`. Определите тип контента:"
   ]
  },
  {
   "cell_type": "code",
   "execution_count": 11,
   "metadata": {
    "id": "rnRYlGxPghJi"
   },
   "outputs": [
    {
     "name": "stdout",
     "output_type": "stream",
     "text": [
      "Content type: \n",
      "\t application/json\n"
     ]
    }
   ],
   "source": [
    "print(f\"Content type: \\n\\t {resp.headers['content-type']}\")"
   ]
  },
  {
   "cell_type": "markdown",
   "metadata": {
    "id": "HYz1ZjjchAXq"
   },
   "source": [
    "**Задание 2.8.** Выполнить парсинг веб-страницы с помощью `JSON`. Обработайте данные с помощью JSON:"
   ]
  },
  {
   "cell_type": "code",
   "execution_count": 12,
   "metadata": {
    "id": "r8Wpu-u-hHCj"
   },
   "outputs": [],
   "source": [
    "if resp.status_code == 200:\n",
    "   json_page = json.loads(resp.text)"
   ]
  },
  {
   "cell_type": "markdown",
   "metadata": {
    "id": "DpnBucrBhRCr"
   },
   "source": [
    "**Задание 2.9.**  Обработайте данные с помощью `JSON`. Посмотреть на ключи:"
   ]
  },
  {
   "cell_type": "code",
   "execution_count": 13,
   "metadata": {
    "id": "KKs3wyTdhax1"
   },
   "outputs": [
    {
     "name": "stdout",
     "output_type": "stream",
     "text": [
      "features\n",
      "type\n"
     ]
    }
   ],
   "source": [
    "for x in json_page:\n",
    "    print(x)"
   ]
  },
  {
   "cell_type": "markdown",
   "metadata": {
    "id": "oBqriFtThn3H"
   },
   "source": [
    "Распечатать ключи и значения:"
   ]
  },
  {
   "cell_type": "code",
   "execution_count": 14,
   "metadata": {
    "id": "peUqDSuQhqIW",
    "scrolled": true
   },
   "outputs": [
    {
     "name": "stdout",
     "output_type": "stream",
     "text": [
      "features --> [{'geometry': {'coordinates': [37.636778, 55.818675], 'type': 'Point'}, 'properties': {'datasetId': 60789, 'attributes': {'is_deleted': 0, 'ID': 1, 'CinemaName': 'Государственное бюджетное учреждение культуры города Москвы «Московское кино» Кинотеатр «Москино Космос»', 'AdmArea': 'Северо-Восточный административный округ', 'District': 'Останкинский район', 'Address': 'Российская Федерация, город Москва, внутригородская территория муниципальный округ Останкинский, проспект Мира, дом 109', 'NumberOfAccessPoints': 7, 'WiFiName': 'Moscow_WiFi_Free', 'CoverageArea': 50, 'FunctionFlag': 'действует', 'AccessFlag': 'открытая сеть', 'Password': '', 'Latitude_WGS84': '55.818675', 'Longitude_WGS84': '37.636778', 'global_id': 879791944}, 'rowId': None, 'versionNumber': 1, 'releaseNumber': 32}, 'type': 'Feature'}, {'geometry': {'coordinates': [37.718534, 55.685873], 'type': 'Point'}, 'properties': {'datasetId': 60789, 'attributes': {'is_deleted': 0, 'ID': 3, 'CinemaName': 'Государственное бюджетное учреждение культуры города Москвы «Московское кино» Кинотеатр «Москино Тула»', 'AdmArea': 'Юго-Восточный административный округ', 'District': 'район Печатники', 'Address': 'город Москва, улица Кухмистерова, дом 4', 'NumberOfAccessPoints': 8, 'WiFiName': 'Moscow_WiFi_Free', 'CoverageArea': 50, 'FunctionFlag': 'действует', 'AccessFlag': 'открытая сеть', 'Password': '', 'Latitude_WGS84': '55.685873', 'Longitude_WGS84': '37.718534', 'global_id': 879791951}, 'rowId': None, 'versionNumber': 1, 'releaseNumber': 32}, 'type': 'Feature'}, {'geometry': {'coordinates': [37.731299, 55.710864], 'type': 'Point'}, 'properties': {'datasetId': 60789, 'attributes': {'is_deleted': 0, 'ID': 4, 'CinemaName': 'Государственное бюджетное учреждение культуры города Москвы «Московское кино» Кинотеатр «Москино Молодежный»', 'AdmArea': 'Юго-Восточный административный округ', 'District': 'район Текстильщики', 'Address': 'Российская Федерация, город Москва, внутригородская территория муниципальный округ Текстильщики, Люблинская улица, дом 11', 'NumberOfAccessPoints': 6, 'WiFiName': 'Moscow_WiFi_Free', 'CoverageArea': 50, 'FunctionFlag': 'действует', 'AccessFlag': 'открытая сеть', 'Password': '', 'Latitude_WGS84': '55.710864', 'Longitude_WGS84': '37.731299', 'global_id': 879791953}, 'rowId': None, 'versionNumber': 1, 'releaseNumber': 32}, 'type': 'Feature'}, {'geometry': {'coordinates': [37.57121, 55.814406], 'type': 'Point'}, 'properties': {'datasetId': 60789, 'attributes': {'is_deleted': 0, 'ID': 7, 'CinemaName': 'Государственное бюджетное учреждение культуры города Москвы «Московское кино» Кинотеатр «Москино Искра»', 'AdmArea': 'Северный административный округ', 'District': 'Тимирязевский район', 'Address': 'Российская Федерация, город Москва, внутригородская территория муниципальный округ Тимирязевский, улица Костякова, дом 10', 'NumberOfAccessPoints': 3, 'WiFiName': 'Moscow_WiFi_Free', 'CoverageArea': 50, 'FunctionFlag': 'действует', 'AccessFlag': 'открытая сеть', 'Password': '', 'Latitude_WGS84': '55.814406', 'Longitude_WGS84': '37.571210', 'global_id': 879791961}, 'rowId': None, 'versionNumber': 1, 'releaseNumber': 32}, 'type': 'Feature'}, {'geometry': {'coordinates': [37.647549, 55.851945], 'type': 'Point'}, 'properties': {'datasetId': 60789, 'attributes': {'is_deleted': 0, 'ID': 9, 'CinemaName': 'Государственное бюджетное учреждение культуры города Москвы «Московское кино» Кинотеатр «Москино Сатурн»', 'AdmArea': 'Северо-Восточный административный округ', 'District': 'район Свиблово', 'Address': 'Российская Федерация, город Москва, внутригородская территория муниципальный округ Свиблово, Снежная улица, дом 18', 'NumberOfAccessPoints': 5, 'WiFiName': 'Moscow_WiFi_Free', 'CoverageArea': 50, 'FunctionFlag': 'действует', 'AccessFlag': 'открытая сеть', 'Password': '', 'Latitude_WGS84': '55.851945', 'Longitude_WGS84': '37.647549', 'global_id': 879791967}, 'rowId': None, 'versionNumber': 1, 'releaseNumber': 32}, 'type': 'Feature'}, {'geometry': {'coordinates': [37.676825, 55.861974], 'type': 'Point'}, 'properties': {'datasetId': 60789, 'attributes': {'is_deleted': 0, 'ID': 2, 'CinemaName': 'Государственное бюджетное учреждение культуры города Москвы «Московское кино» Кинотеатр «Москино Вымпел»', 'AdmArea': 'Северо-Восточный административный округ', 'District': 'Бабушкинский район', 'Address': 'Российская Федерация, город Москва, внутригородская территория муниципальный округ Бабушкинский, улица Коминтерна, дом 8', 'NumberOfAccessPoints': 5, 'WiFiName': 'Moscow_WiFi_Free', 'CoverageArea': 50, 'FunctionFlag': 'действует', 'AccessFlag': 'открытая сеть', 'Password': '', 'Latitude_WGS84': '55.861974', 'Longitude_WGS84': '37.676825', 'global_id': 879795206}, 'rowId': None, 'versionNumber': 1, 'releaseNumber': 32}, 'type': 'Feature'}, {'geometry': {'coordinates': [37.705508, 55.764303], 'type': 'Point'}, 'properties': {'datasetId': 60789, 'attributes': {'is_deleted': 0, 'ID': 5, 'CinemaName': 'Государственное бюджетное учреждение культуры города Москвы «Московское кино» Кинотеатр «Москино Спутник»', 'AdmArea': 'Юго-Восточный административный округ', 'District': 'район Лефортово', 'Address': 'Российская Федерация, город Москва, внутригородская территория муниципальный округ Лефортово, Солдатская улица, дом 15', 'NumberOfAccessPoints': 4, 'WiFiName': 'Moscow_WiFi_Free', 'CoverageArea': 50, 'FunctionFlag': 'действует', 'AccessFlag': 'открытая сеть', 'Password': '', 'Latitude_WGS84': '55.764303', 'Longitude_WGS84': '37.705508', 'global_id': 879795207}, 'rowId': None, 'versionNumber': 1, 'releaseNumber': 32}, 'type': 'Feature'}, {'geometry': {'coordinates': [37.571585, 55.682787], 'type': 'Point'}, 'properties': {'datasetId': 60789, 'attributes': {'is_deleted': 0, 'ID': 6, 'CinemaName': 'Государственное бюджетное учреждение культуры города Москвы «Московское кино» Кинотеатр «Москино Салют»', 'AdmArea': 'Юго-Западный административный округ', 'District': 'Академический район', 'Address': 'Российская Федерация, город Москва, внутригородская территория муниципальный округ Академический, улица Кедрова, дом 14, корпус 1', 'NumberOfAccessPoints': 3, 'WiFiName': 'Moscow_WiFi_Free', 'CoverageArea': 50, 'FunctionFlag': 'действует', 'AccessFlag': 'открытая сеть', 'Password': '', 'Latitude_WGS84': '55.682787', 'Longitude_WGS84': '37.571585', 'global_id': 879795208}, 'rowId': None, 'versionNumber': 1, 'releaseNumber': 32}, 'type': 'Feature'}, {'geometry': {'coordinates': [37.802562, 55.749841], 'type': 'Point'}, 'properties': {'datasetId': 60789, 'attributes': {'is_deleted': 0, 'ID': 8, 'CinemaName': 'Государственное бюджетное учреждение культуры города Москвы «Московское кино» Кинотеатр «Москино Березка»', 'AdmArea': 'Восточный административный округ', 'District': 'район Новогиреево', 'Address': 'Российская Федерация, город Москва, внутригородская территория муниципальный округ Новогиреево, Мартеновская улица, дом 25', 'NumberOfAccessPoints': 6, 'WiFiName': 'Moscow_WiFi_Free', 'CoverageArea': 50, 'FunctionFlag': 'действует', 'AccessFlag': 'открытая сеть', 'Password': '', 'Latitude_WGS84': '55.749841', 'Longitude_WGS84': '37.802562', 'global_id': 879795209}, 'rowId': None, 'versionNumber': 1, 'releaseNumber': 32}, 'type': 'Feature'}, {'geometry': {'coordinates': [37.513395, 55.665309], 'type': 'Point'}, 'properties': {'datasetId': 60789, 'attributes': {'is_deleted': 0, 'ID': 10, 'CinemaName': 'Государственное бюджетное учреждение культуры города Москвы «Киноконцертный зал «Эльдар»', 'AdmArea': 'Юго-Западный административный округ', 'District': 'Обручевский район', 'Address': 'Российская Федерация, город Москва, внутригородская территория муниципальный округ Обручевский, Ленинский проспект, дом 105', 'NumberOfAccessPoints': 5, 'WiFiName': 'Moscow_WiFi_Free', 'CoverageArea': 50, 'FunctionFlag': 'действует', 'AccessFlag': 'открытая сеть', 'Password': '', 'Latitude_WGS84': '55.665309', 'Longitude_WGS84': '37.513395', 'global_id': 879795211}, 'rowId': None, 'versionNumber': 1, 'releaseNumber': 32}, 'type': 'Feature'}, {'geometry': {'coordinates': [37.716144, 55.751817], 'type': 'Point'}, 'properties': {'datasetId': 60789, 'attributes': {'is_deleted': 0, 'ID': 11, 'CinemaName': 'Государственное бюджетное учреждение культуры города Москвы «Московское кино» Кинотеатр «Москино Факел»', 'AdmArea': 'Юго-Восточный административный округ', 'District': 'район Лефортово', 'Address': 'Российская Федерация, город Москва, внутригородская территория муниципальный округ Лефортово, шоссе Энтузиастов, дом 15/16', 'NumberOfAccessPoints': 3, 'WiFiName': 'Moscow_WiFi_Free', 'CoverageArea': 50, 'FunctionFlag': 'действует', 'AccessFlag': 'открытая сеть', 'Password': '', 'Latitude_WGS84': '55.751817', 'Longitude_WGS84': '37.716144', 'global_id': 879795212}, 'rowId': None, 'versionNumber': 1, 'releaseNumber': 32}, 'type': 'Feature'}] \n",
      "\n",
      "type --> FeatureCollection \n",
      "\n"
     ]
    }
   ],
   "source": [
    "for x in json_page:\n",
    "    print(f\"{x} --> {json_page[x]} \\n\")"
   ]
  },
  {
   "cell_type": "code",
   "execution_count": 15,
   "metadata": {
    "id": "FSJj7Ykdhz6O"
   },
   "outputs": [
    {
     "name": "stdout",
     "output_type": "stream",
     "text": [
      "{'features': [{'geometry': {'coordinates': [37.636778, 55.818675],\n",
      "                            'type': 'Point'},\n",
      "               'properties': {'attributes': {'AccessFlag': 'открытая сеть',\n",
      "                                             'Address': 'Российская Федерация, '\n",
      "                                                        'город Москва, '\n",
      "                                                        'внутригородская '\n",
      "                                                        'территория '\n",
      "                                                        'муниципальный округ '\n",
      "                                                        'Останкинский, '\n",
      "                                                        'проспект Мира, дом '\n",
      "                                                        '109',\n",
      "                                             'AdmArea': 'Северо-Восточный '\n",
      "                                                        'административный '\n",
      "                                                        'округ',\n",
      "                                             'CinemaName': 'Государственное '\n",
      "                                                           'бюджетное '\n",
      "                                                           'учреждение '\n",
      "                                                           'культуры города '\n",
      "                                                           'Москвы «Московское '\n",
      "                                                           'кино» Кинотеатр '\n",
      "                                                           '«Москино Космос»',\n",
      "                                             'CoverageArea': 50,\n",
      "                                             'District': 'Останкинский район',\n",
      "                                             'FunctionFlag': 'действует',\n",
      "                                             'ID': 1,\n",
      "                                             'Latitude_WGS84': '55.818675',\n",
      "                                             'Longitude_WGS84': '37.636778',\n",
      "                                             'NumberOfAccessPoints': 7,\n",
      "                                             'Password': '',\n",
      "                                             'WiFiName': 'Moscow_WiFi_Free',\n",
      "                                             'global_id': 879791944,\n",
      "                                             'is_deleted': 0},\n",
      "                              'datasetId': 60789,\n",
      "                              'releaseNumber': 32,\n",
      "                              'rowId': None,\n",
      "                              'versionNumber': 1},\n",
      "               'type': 'Feature'},\n",
      "              {'geometry': {'coordinates': [37.718534, 55.685873],\n",
      "                            'type': 'Point'},\n",
      "               'properties': {'attributes': {'AccessFlag': 'открытая сеть',\n",
      "                                             'Address': 'город Москва, улица '\n",
      "                                                        'Кухмистерова, дом 4',\n",
      "                                             'AdmArea': 'Юго-Восточный '\n",
      "                                                        'административный '\n",
      "                                                        'округ',\n",
      "                                             'CinemaName': 'Государственное '\n",
      "                                                           'бюджетное '\n",
      "                                                           'учреждение '\n",
      "                                                           'культуры города '\n",
      "                                                           'Москвы «Московское '\n",
      "                                                           'кино» Кинотеатр '\n",
      "                                                           '«Москино Тула»',\n",
      "                                             'CoverageArea': 50,\n",
      "                                             'District': 'район Печатники',\n",
      "                                             'FunctionFlag': 'действует',\n",
      "                                             'ID': 3,\n",
      "                                             'Latitude_WGS84': '55.685873',\n",
      "                                             'Longitude_WGS84': '37.718534',\n",
      "                                             'NumberOfAccessPoints': 8,\n",
      "                                             'Password': '',\n",
      "                                             'WiFiName': 'Moscow_WiFi_Free',\n",
      "                                             'global_id': 879791951,\n",
      "                                             'is_deleted': 0},\n",
      "                              'datasetId': 60789,\n",
      "                              'releaseNumber': 32,\n",
      "                              'rowId': None,\n",
      "                              'versionNumber': 1},\n",
      "               'type': 'Feature'},\n",
      "              {'geometry': {'coordinates': [37.731299, 55.710864],\n",
      "                            'type': 'Point'},\n",
      "               'properties': {'attributes': {'AccessFlag': 'открытая сеть',\n",
      "                                             'Address': 'Российская Федерация, '\n",
      "                                                        'город Москва, '\n",
      "                                                        'внутригородская '\n",
      "                                                        'территория '\n",
      "                                                        'муниципальный округ '\n",
      "                                                        'Текстильщики, '\n",
      "                                                        'Люблинская улица, дом '\n",
      "                                                        '11',\n",
      "                                             'AdmArea': 'Юго-Восточный '\n",
      "                                                        'административный '\n",
      "                                                        'округ',\n",
      "                                             'CinemaName': 'Государственное '\n",
      "                                                           'бюджетное '\n",
      "                                                           'учреждение '\n",
      "                                                           'культуры города '\n",
      "                                                           'Москвы «Московское '\n",
      "                                                           'кино» Кинотеатр '\n",
      "                                                           '«Москино '\n",
      "                                                           'Молодежный»',\n",
      "                                             'CoverageArea': 50,\n",
      "                                             'District': 'район Текстильщики',\n",
      "                                             'FunctionFlag': 'действует',\n",
      "                                             'ID': 4,\n",
      "                                             'Latitude_WGS84': '55.710864',\n",
      "                                             'Longitude_WGS84': '37.731299',\n",
      "                                             'NumberOfAccessPoints': 6,\n",
      "                                             'Password': '',\n",
      "                                             'WiFiName': 'Moscow_WiFi_Free',\n",
      "                                             'global_id': 879791953,\n",
      "                                             'is_deleted': 0},\n",
      "                              'datasetId': 60789,\n",
      "                              'releaseNumber': 32,\n",
      "                              'rowId': None,\n",
      "                              'versionNumber': 1},\n",
      "               'type': 'Feature'},\n",
      "              {'geometry': {'coordinates': [37.57121, 55.814406],\n",
      "                            'type': 'Point'},\n",
      "               'properties': {'attributes': {'AccessFlag': 'открытая сеть',\n",
      "                                             'Address': 'Российская Федерация, '\n",
      "                                                        'город Москва, '\n",
      "                                                        'внутригородская '\n",
      "                                                        'территория '\n",
      "                                                        'муниципальный округ '\n",
      "                                                        'Тимирязевский, улица '\n",
      "                                                        'Костякова, дом 10',\n",
      "                                             'AdmArea': 'Северный '\n",
      "                                                        'административный '\n",
      "                                                        'округ',\n",
      "                                             'CinemaName': 'Государственное '\n",
      "                                                           'бюджетное '\n",
      "                                                           'учреждение '\n",
      "                                                           'культуры города '\n",
      "                                                           'Москвы «Московское '\n",
      "                                                           'кино» Кинотеатр '\n",
      "                                                           '«Москино Искра»',\n",
      "                                             'CoverageArea': 50,\n",
      "                                             'District': 'Тимирязевский район',\n",
      "                                             'FunctionFlag': 'действует',\n",
      "                                             'ID': 7,\n",
      "                                             'Latitude_WGS84': '55.814406',\n",
      "                                             'Longitude_WGS84': '37.571210',\n",
      "                                             'NumberOfAccessPoints': 3,\n",
      "                                             'Password': '',\n",
      "                                             'WiFiName': 'Moscow_WiFi_Free',\n",
      "                                             'global_id': 879791961,\n",
      "                                             'is_deleted': 0},\n",
      "                              'datasetId': 60789,\n",
      "                              'releaseNumber': 32,\n",
      "                              'rowId': None,\n",
      "                              'versionNumber': 1},\n",
      "               'type': 'Feature'},\n",
      "              {'geometry': {'coordinates': [37.647549, 55.851945],\n",
      "                            'type': 'Point'},\n",
      "               'properties': {'attributes': {'AccessFlag': 'открытая сеть',\n",
      "                                             'Address': 'Российская Федерация, '\n",
      "                                                        'город Москва, '\n",
      "                                                        'внутригородская '\n",
      "                                                        'территория '\n",
      "                                                        'муниципальный округ '\n",
      "                                                        'Свиблово, Снежная '\n",
      "                                                        'улица, дом 18',\n",
      "                                             'AdmArea': 'Северо-Восточный '\n",
      "                                                        'административный '\n",
      "                                                        'округ',\n",
      "                                             'CinemaName': 'Государственное '\n",
      "                                                           'бюджетное '\n",
      "                                                           'учреждение '\n",
      "                                                           'культуры города '\n",
      "                                                           'Москвы «Московское '\n",
      "                                                           'кино» Кинотеатр '\n",
      "                                                           '«Москино Сатурн»',\n",
      "                                             'CoverageArea': 50,\n",
      "                                             'District': 'район Свиблово',\n",
      "                                             'FunctionFlag': 'действует',\n",
      "                                             'ID': 9,\n",
      "                                             'Latitude_WGS84': '55.851945',\n",
      "                                             'Longitude_WGS84': '37.647549',\n",
      "                                             'NumberOfAccessPoints': 5,\n",
      "                                             'Password': '',\n",
      "                                             'WiFiName': 'Moscow_WiFi_Free',\n",
      "                                             'global_id': 879791967,\n",
      "                                             'is_deleted': 0},\n",
      "                              'datasetId': 60789,\n",
      "                              'releaseNumber': 32,\n",
      "                              'rowId': None,\n",
      "                              'versionNumber': 1},\n",
      "               'type': 'Feature'},\n",
      "              {'geometry': {'coordinates': [37.676825, 55.861974],\n",
      "                            'type': 'Point'},\n",
      "               'properties': {'attributes': {'AccessFlag': 'открытая сеть',\n",
      "                                             'Address': 'Российская Федерация, '\n",
      "                                                        'город Москва, '\n",
      "                                                        'внутригородская '\n",
      "                                                        'территория '\n",
      "                                                        'муниципальный округ '\n",
      "                                                        'Бабушкинский, улица '\n",
      "                                                        'Коминтерна, дом 8',\n",
      "                                             'AdmArea': 'Северо-Восточный '\n",
      "                                                        'административный '\n",
      "                                                        'округ',\n",
      "                                             'CinemaName': 'Государственное '\n",
      "                                                           'бюджетное '\n",
      "                                                           'учреждение '\n",
      "                                                           'культуры города '\n",
      "                                                           'Москвы «Московское '\n",
      "                                                           'кино» Кинотеатр '\n",
      "                                                           '«Москино Вымпел»',\n",
      "                                             'CoverageArea': 50,\n",
      "                                             'District': 'Бабушкинский район',\n",
      "                                             'FunctionFlag': 'действует',\n",
      "                                             'ID': 2,\n",
      "                                             'Latitude_WGS84': '55.861974',\n",
      "                                             'Longitude_WGS84': '37.676825',\n",
      "                                             'NumberOfAccessPoints': 5,\n",
      "                                             'Password': '',\n",
      "                                             'WiFiName': 'Moscow_WiFi_Free',\n",
      "                                             'global_id': 879795206,\n",
      "                                             'is_deleted': 0},\n",
      "                              'datasetId': 60789,\n",
      "                              'releaseNumber': 32,\n",
      "                              'rowId': None,\n",
      "                              'versionNumber': 1},\n",
      "               'type': 'Feature'},\n",
      "              {'geometry': {'coordinates': [37.705508, 55.764303],\n",
      "                            'type': 'Point'},\n",
      "               'properties': {'attributes': {'AccessFlag': 'открытая сеть',\n",
      "                                             'Address': 'Российская Федерация, '\n",
      "                                                        'город Москва, '\n",
      "                                                        'внутригородская '\n",
      "                                                        'территория '\n",
      "                                                        'муниципальный округ '\n",
      "                                                        'Лефортово, Солдатская '\n",
      "                                                        'улица, дом 15',\n",
      "                                             'AdmArea': 'Юго-Восточный '\n",
      "                                                        'административный '\n",
      "                                                        'округ',\n",
      "                                             'CinemaName': 'Государственное '\n",
      "                                                           'бюджетное '\n",
      "                                                           'учреждение '\n",
      "                                                           'культуры города '\n",
      "                                                           'Москвы «Московское '\n",
      "                                                           'кино» Кинотеатр '\n",
      "                                                           '«Москино Спутник»',\n",
      "                                             'CoverageArea': 50,\n",
      "                                             'District': 'район Лефортово',\n",
      "                                             'FunctionFlag': 'действует',\n",
      "                                             'ID': 5,\n",
      "                                             'Latitude_WGS84': '55.764303',\n",
      "                                             'Longitude_WGS84': '37.705508',\n",
      "                                             'NumberOfAccessPoints': 4,\n",
      "                                             'Password': '',\n",
      "                                             'WiFiName': 'Moscow_WiFi_Free',\n",
      "                                             'global_id': 879795207,\n",
      "                                             'is_deleted': 0},\n",
      "                              'datasetId': 60789,\n",
      "                              'releaseNumber': 32,\n",
      "                              'rowId': None,\n",
      "                              'versionNumber': 1},\n",
      "               'type': 'Feature'},\n",
      "              {'geometry': {'coordinates': [37.571585, 55.682787],\n",
      "                            'type': 'Point'},\n",
      "               'properties': {'attributes': {'AccessFlag': 'открытая сеть',\n",
      "                                             'Address': 'Российская Федерация, '\n",
      "                                                        'город Москва, '\n",
      "                                                        'внутригородская '\n",
      "                                                        'территория '\n",
      "                                                        'муниципальный округ '\n",
      "                                                        'Академический, улица '\n",
      "                                                        'Кедрова, дом 14, '\n",
      "                                                        'корпус 1',\n",
      "                                             'AdmArea': 'Юго-Западный '\n",
      "                                                        'административный '\n",
      "                                                        'округ',\n",
      "                                             'CinemaName': 'Государственное '\n",
      "                                                           'бюджетное '\n",
      "                                                           'учреждение '\n",
      "                                                           'культуры города '\n",
      "                                                           'Москвы «Московское '\n",
      "                                                           'кино» Кинотеатр '\n",
      "                                                           '«Москино Салют»',\n",
      "                                             'CoverageArea': 50,\n",
      "                                             'District': 'Академический район',\n",
      "                                             'FunctionFlag': 'действует',\n",
      "                                             'ID': 6,\n",
      "                                             'Latitude_WGS84': '55.682787',\n",
      "                                             'Longitude_WGS84': '37.571585',\n",
      "                                             'NumberOfAccessPoints': 3,\n",
      "                                             'Password': '',\n",
      "                                             'WiFiName': 'Moscow_WiFi_Free',\n",
      "                                             'global_id': 879795208,\n",
      "                                             'is_deleted': 0},\n",
      "                              'datasetId': 60789,\n",
      "                              'releaseNumber': 32,\n",
      "                              'rowId': None,\n",
      "                              'versionNumber': 1},\n",
      "               'type': 'Feature'},\n",
      "              {'geometry': {'coordinates': [37.802562, 55.749841],\n",
      "                            'type': 'Point'},\n",
      "               'properties': {'attributes': {'AccessFlag': 'открытая сеть',\n",
      "                                             'Address': 'Российская Федерация, '\n",
      "                                                        'город Москва, '\n",
      "                                                        'внутригородская '\n",
      "                                                        'территория '\n",
      "                                                        'муниципальный округ '\n",
      "                                                        'Новогиреево, '\n",
      "                                                        'Мартеновская улица, '\n",
      "                                                        'дом 25',\n",
      "                                             'AdmArea': 'Восточный '\n",
      "                                                        'административный '\n",
      "                                                        'округ',\n",
      "                                             'CinemaName': 'Государственное '\n",
      "                                                           'бюджетное '\n",
      "                                                           'учреждение '\n",
      "                                                           'культуры города '\n",
      "                                                           'Москвы «Московское '\n",
      "                                                           'кино» Кинотеатр '\n",
      "                                                           '«Москино Березка»',\n",
      "                                             'CoverageArea': 50,\n",
      "                                             'District': 'район Новогиреево',\n",
      "                                             'FunctionFlag': 'действует',\n",
      "                                             'ID': 8,\n",
      "                                             'Latitude_WGS84': '55.749841',\n",
      "                                             'Longitude_WGS84': '37.802562',\n",
      "                                             'NumberOfAccessPoints': 6,\n",
      "                                             'Password': '',\n",
      "                                             'WiFiName': 'Moscow_WiFi_Free',\n",
      "                                             'global_id': 879795209,\n",
      "                                             'is_deleted': 0},\n",
      "                              'datasetId': 60789,\n",
      "                              'releaseNumber': 32,\n",
      "                              'rowId': None,\n",
      "                              'versionNumber': 1},\n",
      "               'type': 'Feature'},\n",
      "              {'geometry': {'coordinates': [37.513395, 55.665309],\n",
      "                            'type': 'Point'},\n",
      "               'properties': {'attributes': {'AccessFlag': 'открытая сеть',\n",
      "                                             'Address': 'Российская Федерация, '\n",
      "                                                        'город Москва, '\n",
      "                                                        'внутригородская '\n",
      "                                                        'территория '\n",
      "                                                        'муниципальный округ '\n",
      "                                                        'Обручевский, '\n",
      "                                                        'Ленинский проспект, '\n",
      "                                                        'дом 105',\n",
      "                                             'AdmArea': 'Юго-Западный '\n",
      "                                                        'административный '\n",
      "                                                        'округ',\n",
      "                                             'CinemaName': 'Государственное '\n",
      "                                                           'бюджетное '\n",
      "                                                           'учреждение '\n",
      "                                                           'культуры города '\n",
      "                                                           'Москвы '\n",
      "                                                           '«Киноконцертный '\n",
      "                                                           'зал «Эльдар»',\n",
      "                                             'CoverageArea': 50,\n",
      "                                             'District': 'Обручевский район',\n",
      "                                             'FunctionFlag': 'действует',\n",
      "                                             'ID': 10,\n",
      "                                             'Latitude_WGS84': '55.665309',\n",
      "                                             'Longitude_WGS84': '37.513395',\n",
      "                                             'NumberOfAccessPoints': 5,\n",
      "                                             'Password': '',\n",
      "                                             'WiFiName': 'Moscow_WiFi_Free',\n",
      "                                             'global_id': 879795211,\n",
      "                                             'is_deleted': 0},\n",
      "                              'datasetId': 60789,\n",
      "                              'releaseNumber': 32,\n",
      "                              'rowId': None,\n",
      "                              'versionNumber': 1},\n",
      "               'type': 'Feature'},\n",
      "              {'geometry': {'coordinates': [37.716144, 55.751817],\n",
      "                            'type': 'Point'},\n",
      "               'properties': {'attributes': {'AccessFlag': 'открытая сеть',\n",
      "                                             'Address': 'Российская Федерация, '\n",
      "                                                        'город Москва, '\n",
      "                                                        'внутригородская '\n",
      "                                                        'территория '\n",
      "                                                        'муниципальный округ '\n",
      "                                                        'Лефортово, шоссе '\n",
      "                                                        'Энтузиастов, дом '\n",
      "                                                        '15/16',\n",
      "                                             'AdmArea': 'Юго-Восточный '\n",
      "                                                        'административный '\n",
      "                                                        'округ',\n",
      "                                             'CinemaName': 'Государственное '\n",
      "                                                           'бюджетное '\n",
      "                                                           'учреждение '\n",
      "                                                           'культуры города '\n",
      "                                                           'Москвы «Московское '\n",
      "                                                           'кино» Кинотеатр '\n",
      "                                                           '«Москино Факел»',\n",
      "                                             'CoverageArea': 50,\n",
      "                                             'District': 'район Лефортово',\n",
      "                                             'FunctionFlag': 'действует',\n",
      "                                             'ID': 11,\n",
      "                                             'Latitude_WGS84': '55.751817',\n",
      "                                             'Longitude_WGS84': '37.716144',\n",
      "                                             'NumberOfAccessPoints': 3,\n",
      "                                             'Password': '',\n",
      "                                             'WiFiName': 'Moscow_WiFi_Free',\n",
      "                                             'global_id': 879795212,\n",
      "                                             'is_deleted': 0},\n",
      "                              'datasetId': 60789,\n",
      "                              'releaseNumber': 32,\n",
      "                              'rowId': None,\n",
      "                              'versionNumber': 1},\n",
      "               'type': 'Feature'}],\n",
      " 'type': 'FeatureCollection'}\n"
     ]
    }
   ],
   "source": [
    "pprint.pprint(json_page)"
   ]
  },
  {
   "cell_type": "markdown",
   "metadata": {
    "id": "xTubY5cRenax"
   },
   "source": [
    "**Задание 2.10.** Выполнить парсинг веб-страницы с помощью `Beautiful Soup`"
   ]
  },
  {
   "cell_type": "code",
   "execution_count": 16,
   "metadata": {
    "id": "O4itFt8mklPV"
   },
   "outputs": [],
   "source": [
    "from bs4 import BeautifulSoup as bso"
   ]
  },
  {
   "cell_type": "code",
   "execution_count": 17,
   "metadata": {
    "id": "i4qW1Nvkkn-B"
   },
   "outputs": [],
   "source": [
    "# Отправление запроса на получение данных и присваивание ответ переменной.\n",
    "source = reqs.get(\"https://apidata.mos.ru/v1/datasets/60789/features?api_key=d4a90fd5-f352-4206-a8d7-da61d1e66da0\")"
   ]
  },
  {
   "cell_type": "code",
   "execution_count": 18,
   "metadata": {
    "id": "yFJqrl6Fa5au"
   },
   "outputs": [
    {
     "name": "stdout",
     "output_type": "stream",
     "text": [
      "Content type: \n",
      "\t application/json\n"
     ]
    }
   ],
   "source": [
    "print(f\"Content type: \\n\\t {source.headers['content-type']}\")"
   ]
  },
  {
   "cell_type": "code",
   "execution_count": 19,
   "metadata": {
    "id": "e0iCRFeOk8QN"
   },
   "outputs": [
    {
     "name": "stdout",
     "output_type": "stream",
     "text": [
      "<Response [200]>\n"
     ]
    }
   ],
   "source": [
    "print(source)"
   ]
  },
  {
   "cell_type": "markdown",
   "metadata": {
    "id": "I2K4PKBZlKjR"
   },
   "source": [
    "**Задание 2.10.1.** Выполнить парсинг веб-страницы с помощью `Beautiful Soup`. Создать beautiful soup объект."
   ]
  },
  {
   "cell_type": "code",
   "execution_count": 20,
   "metadata": {
    "id": "UY_9Ro7alce_"
   },
   "outputs": [],
   "source": [
    "mysoup = bso(source.text, 'html.parser')"
   ]
  },
  {
   "cell_type": "markdown",
   "metadata": {
    "id": "9wA_Ko8kleCF"
   },
   "source": [
    "**Задание 2.10.2.** Выполнить парсинг веб-страницы с помощью `Beautiful Soup`. Распечатайте HTML-содержимое страницы, используя метод prettify"
   ]
  },
  {
   "cell_type": "code",
   "execution_count": 21,
   "metadata": {
    "id": "jTbNBgTvltXT",
    "scrolled": true
   },
   "outputs": [
    {
     "name": "stdout",
     "output_type": "stream",
     "text": [
      "{\"features\":[{\"geometry\":{\"coordinates\":[37.636778,55.818675],\"type\":\"Point\"},\"properties\":{\"datasetId\":60789,\"attributes\":{\"is_deleted\":0,\"ID\":1,\"CinemaName\":\"Государственное бюджетное учреждение культуры города Москвы «Московское кино» Кинотеатр «Москино Космос»\",\"AdmArea\":\"Северо-Восточный административный округ\",\"District\":\"Останкинский район\",\"Address\":\"Российская Федерация, город Москва, внутригородская территория муниципальный округ Останкинский, проспект Мира, дом 109\",\"NumberOfAccessPoints\":7,\"WiFiName\":\"Moscow_WiFi_Free\",\"CoverageArea\":50,\"FunctionFlag\":\"действует\",\"AccessFlag\":\"открытая сеть\",\"Password\":\"\",\"Latitude_WGS84\":\"55.818675\",\"Longitude_WGS84\":\"37.636778\",\"global_id\":879791944},\"rowId\":null,\"versionNumber\":1,\"releaseNumber\":32},\"type\":\"Feature\"},{\"geometry\":{\"coordinates\":[37.718534,55.685873],\"type\":\"Point\"},\"properties\":{\"datasetId\":60789,\"attributes\":{\"is_deleted\":0,\"ID\":3,\"CinemaName\":\"Государственное бюджетное учреждение культуры города Москвы «Московское кино» Кинотеатр «Москино Тула»\",\"AdmArea\":\"Юго-Восточный административный округ\",\"District\":\"район Печатники\",\"Address\":\"город Москва, улица Кухмистерова, дом 4\",\"NumberOfAccessPoints\":8,\"WiFiName\":\"Moscow_WiFi_Free\",\"CoverageArea\":50,\"FunctionFlag\":\"действует\",\"AccessFlag\":\"открытая сеть\",\"Password\":\"\",\"Latitude_WGS84\":\"55.685873\",\"Longitude_WGS84\":\"37.718534\",\"global_id\":879791951},\"rowId\":null,\"versionNumber\":1,\"releaseNumber\":32},\"type\":\"Feature\"},{\"geometry\":{\"coordinates\":[37.731299,55.710864],\"type\":\"Point\"},\"properties\":{\"datasetId\":60789,\"attributes\":{\"is_deleted\":0,\"ID\":4,\"CinemaName\":\"Государственное бюджетное учреждение культуры города Москвы «Московское кино» Кинотеатр «Москино Молодежный»\",\"AdmArea\":\"Юго-Восточный административный округ\",\"District\":\"район Текстильщики\",\"Address\":\"Российская Федерация, город Москва, внутригородская территория муниципальный округ Текстильщики, Люблинская улица, дом 11\",\"NumberOfAccessPoints\":6,\"WiFiName\":\"Moscow_WiFi_Free\",\"CoverageArea\":50,\"FunctionFlag\":\"действует\",\"AccessFlag\":\"открытая сеть\",\"Password\":\"\",\"Latitude_WGS84\":\"55.710864\",\"Longitude_WGS84\":\"37.731299\",\"global_id\":879791953},\"rowId\":null,\"versionNumber\":1,\"releaseNumber\":32},\"type\":\"Feature\"},{\"geometry\":{\"coordinates\":[37.57121,55.814406],\"type\":\"Point\"},\"properties\":{\"datasetId\":60789,\"attributes\":{\"is_deleted\":0,\"ID\":7,\"CinemaName\":\"Государственное бюджетное учреждение культуры города Москвы «Московское кино» Кинотеатр «Москино Искра»\",\"AdmArea\":\"Северный административный округ\",\"District\":\"Тимирязевский район\",\"Address\":\"Российская Федерация, город Москва, внутригородская территория муниципальный округ Тимирязевский, улица Костякова, дом 10\",\"NumberOfAccessPoints\":3,\"WiFiName\":\"Moscow_WiFi_Free\",\"CoverageArea\":50,\"FunctionFlag\":\"действует\",\"AccessFlag\":\"открытая сеть\",\"Password\":\"\",\"Latitude_WGS84\":\"55.814406\",\"Longitude_WGS84\":\"37.571210\",\"global_id\":879791961},\"rowId\":null,\"versionNumber\":1,\"releaseNumber\":32},\"type\":\"Feature\"},{\"geometry\":{\"coordinates\":[37.647549,55.851945],\"type\":\"Point\"},\"properties\":{\"datasetId\":60789,\"attributes\":{\"is_deleted\":0,\"ID\":9,\"CinemaName\":\"Государственное бюджетное учреждение культуры города Москвы «Московское кино» Кинотеатр «Москино Сатурн»\",\"AdmArea\":\"Северо-Восточный административный округ\",\"District\":\"район Свиблово\",\"Address\":\"Российская Федерация, город Москва, внутригородская территория муниципальный округ Свиблово, Снежная улица, дом 18\",\"NumberOfAccessPoints\":5,\"WiFiName\":\"Moscow_WiFi_Free\",\"CoverageArea\":50,\"FunctionFlag\":\"действует\",\"AccessFlag\":\"открытая сеть\",\"Password\":\"\",\"Latitude_WGS84\":\"55.851945\",\"Longitude_WGS84\":\"37.647549\",\"global_id\":879791967},\"rowId\":null,\"versionNumber\":1,\"releaseNumber\":32},\"type\":\"Feature\"},{\"geometry\":{\"coordinates\":[37.676825,55.861974],\"type\":\"Point\"},\"properties\":{\"datasetId\":60789,\"attributes\":{\"is_deleted\":0,\"ID\":2,\"CinemaName\":\"Государственное бюджетное учреждение культуры города Москвы «Московское кино» Кинотеатр «Москино Вымпел»\",\"AdmArea\":\"Северо-Восточный административный округ\",\"District\":\"Бабушкинский район\",\"Address\":\"Российская Федерация, город Москва, внутригородская территория муниципальный округ Бабушкинский, улица Коминтерна, дом 8\",\"NumberOfAccessPoints\":5,\"WiFiName\":\"Moscow_WiFi_Free\",\"CoverageArea\":50,\"FunctionFlag\":\"действует\",\"AccessFlag\":\"открытая сеть\",\"Password\":\"\",\"Latitude_WGS84\":\"55.861974\",\"Longitude_WGS84\":\"37.676825\",\"global_id\":879795206},\"rowId\":null,\"versionNumber\":1,\"releaseNumber\":32},\"type\":\"Feature\"},{\"geometry\":{\"coordinates\":[37.705508,55.764303],\"type\":\"Point\"},\"properties\":{\"datasetId\":60789,\"attributes\":{\"is_deleted\":0,\"ID\":5,\"CinemaName\":\"Государственное бюджетное учреждение культуры города Москвы «Московское кино» Кинотеатр «Москино Спутник»\",\"AdmArea\":\"Юго-Восточный административный округ\",\"District\":\"район Лефортово\",\"Address\":\"Российская Федерация, город Москва, внутригородская территория муниципальный округ Лефортово, Солдатская улица, дом 15\",\"NumberOfAccessPoints\":4,\"WiFiName\":\"Moscow_WiFi_Free\",\"CoverageArea\":50,\"FunctionFlag\":\"действует\",\"AccessFlag\":\"открытая сеть\",\"Password\":\"\",\"Latitude_WGS84\":\"55.764303\",\"Longitude_WGS84\":\"37.705508\",\"global_id\":879795207},\"rowId\":null,\"versionNumber\":1,\"releaseNumber\":32},\"type\":\"Feature\"},{\"geometry\":{\"coordinates\":[37.571585,55.682787],\"type\":\"Point\"},\"properties\":{\"datasetId\":60789,\"attributes\":{\"is_deleted\":0,\"ID\":6,\"CinemaName\":\"Государственное бюджетное учреждение культуры города Москвы «Московское кино» Кинотеатр «Москино Салют»\",\"AdmArea\":\"Юго-Западный административный округ\",\"District\":\"Академический район\",\"Address\":\"Российская Федерация, город Москва, внутригородская территория муниципальный округ Академический, улица Кедрова, дом 14, корпус 1\",\"NumberOfAccessPoints\":3,\"WiFiName\":\"Moscow_WiFi_Free\",\"CoverageArea\":50,\"FunctionFlag\":\"действует\",\"AccessFlag\":\"открытая сеть\",\"Password\":\"\",\"Latitude_WGS84\":\"55.682787\",\"Longitude_WGS84\":\"37.571585\",\"global_id\":879795208},\"rowId\":null,\"versionNumber\":1,\"releaseNumber\":32},\"type\":\"Feature\"},{\"geometry\":{\"coordinates\":[37.802562,55.749841],\"type\":\"Point\"},\"properties\":{\"datasetId\":60789,\"attributes\":{\"is_deleted\":0,\"ID\":8,\"CinemaName\":\"Государственное бюджетное учреждение культуры города Москвы «Московское кино» Кинотеатр «Москино Березка»\",\"AdmArea\":\"Восточный административный округ\",\"District\":\"район Новогиреево\",\"Address\":\"Российская Федерация, город Москва, внутригородская территория муниципальный округ Новогиреево, Мартеновская улица, дом 25\",\"NumberOfAccessPoints\":6,\"WiFiName\":\"Moscow_WiFi_Free\",\"CoverageArea\":50,\"FunctionFlag\":\"действует\",\"AccessFlag\":\"открытая сеть\",\"Password\":\"\",\"Latitude_WGS84\":\"55.749841\",\"Longitude_WGS84\":\"37.802562\",\"global_id\":879795209},\"rowId\":null,\"versionNumber\":1,\"releaseNumber\":32},\"type\":\"Feature\"},{\"geometry\":{\"coordinates\":[37.513395,55.665309],\"type\":\"Point\"},\"properties\":{\"datasetId\":60789,\"attributes\":{\"is_deleted\":0,\"ID\":10,\"CinemaName\":\"Государственное бюджетное учреждение культуры города Москвы «Киноконцертный зал «Эльдар»\",\"AdmArea\":\"Юго-Западный административный округ\",\"District\":\"Обручевский район\",\"Address\":\"Российская Федерация, город Москва, внутригородская территория муниципальный округ Обручевский, Ленинский проспект, дом 105\",\"NumberOfAccessPoints\":5,\"WiFiName\":\"Moscow_WiFi_Free\",\"CoverageArea\":50,\"FunctionFlag\":\"действует\",\"AccessFlag\":\"открытая сеть\",\"Password\":\"\",\"Latitude_WGS84\":\"55.665309\",\"Longitude_WGS84\":\"37.513395\",\"global_id\":879795211},\"rowId\":null,\"versionNumber\":1,\"releaseNumber\":32},\"type\":\"Feature\"},{\"geometry\":{\"coordinates\":[37.716144,55.751817],\"type\":\"Point\"},\"properties\":{\"datasetId\":60789,\"attributes\":{\"is_deleted\":0,\"ID\":11,\"CinemaName\":\"Государственное бюджетное учреждение культуры города Москвы «Московское кино» Кинотеатр «Москино Факел»\",\"AdmArea\":\"Юго-Восточный административный округ\",\"District\":\"район Лефортово\",\"Address\":\"Российская Федерация, город Москва, внутригородская территория муниципальный округ Лефортово, шоссе Энтузиастов, дом 15/16\",\"NumberOfAccessPoints\":3,\"WiFiName\":\"Moscow_WiFi_Free\",\"CoverageArea\":50,\"FunctionFlag\":\"действует\",\"AccessFlag\":\"открытая сеть\",\"Password\":\"\",\"Latitude_WGS84\":\"55.751817\",\"Longitude_WGS84\":\"37.716144\",\"global_id\":879795212},\"rowId\":null,\"versionNumber\":1,\"releaseNumber\":32},\"type\":\"Feature\"}],\"type\":\"FeatureCollection\"}\n",
      "\n"
     ]
    }
   ],
   "source": [
    "print(mysoup.prettify())"
   ]
  },
  {
   "cell_type": "markdown",
   "metadata": {
    "id": "MTREZUPtlxmQ"
   },
   "source": [
    "**Задание 2.10.3.** Выполнить парсинг веб-страницы с помощью `Beautiful Soup`. Получить заголовок страницы"
   ]
  },
  {
   "cell_type": "code",
   "execution_count": 22,
   "metadata": {
    "id": "ZLysxT0Ul6oV",
    "scrolled": true
   },
   "outputs": [
    {
     "name": "stdout",
     "output_type": "stream",
     "text": [
      "None\n"
     ]
    }
   ],
   "source": [
    "print(mysoup.title)"
   ]
  },
  {
   "cell_type": "markdown",
   "metadata": {
    "id": "h031gICWwyLR"
   },
   "source": [
    "**Получение данных `Parquet`**"
   ]
  },
  {
   "cell_type": "markdown",
   "metadata": {
    "id": "Wal7CA3dw8Bm"
   },
   "source": [
    "Посетите URL https://www1.nyc.gov/site/tlc/about/tlc-trip-record-data.page."
   ]
  },
  {
   "cell_type": "markdown",
   "metadata": {
    "id": "ruzOMDEsz2pY"
   },
   "source": [
    "**Задание 2.12.** Считайте данные из файла Parquet. Использовать метод pandas read_parquet."
   ]
  },
  {
   "cell_type": "code",
   "execution_count": 25,
   "metadata": {
    "id": "oa1kHoKBzssL"
   },
   "outputs": [
    {
     "data": {
      "text/html": [
       "<div>\n",
       "<style scoped>\n",
       "    .dataframe tbody tr th:only-of-type {\n",
       "        vertical-align: middle;\n",
       "    }\n",
       "\n",
       "    .dataframe tbody tr th {\n",
       "        vertical-align: top;\n",
       "    }\n",
       "\n",
       "    .dataframe thead th {\n",
       "        text-align: right;\n",
       "    }\n",
       "</style>\n",
       "<table border=\"1\" class=\"dataframe\">\n",
       "  <thead>\n",
       "    <tr style=\"text-align: right;\">\n",
       "      <th></th>\n",
       "      <th>VendorID</th>\n",
       "      <th>tpep_pickup_datetime</th>\n",
       "      <th>tpep_dropoff_datetime</th>\n",
       "      <th>passenger_count</th>\n",
       "      <th>trip_distance</th>\n",
       "      <th>RatecodeID</th>\n",
       "      <th>store_and_fwd_flag</th>\n",
       "      <th>PULocationID</th>\n",
       "      <th>DOLocationID</th>\n",
       "      <th>payment_type</th>\n",
       "      <th>fare_amount</th>\n",
       "      <th>extra</th>\n",
       "      <th>mta_tax</th>\n",
       "      <th>tip_amount</th>\n",
       "      <th>tolls_amount</th>\n",
       "      <th>improvement_surcharge</th>\n",
       "      <th>total_amount</th>\n",
       "      <th>congestion_surcharge</th>\n",
       "      <th>Airport_fee</th>\n",
       "    </tr>\n",
       "  </thead>\n",
       "  <tbody>\n",
       "    <tr>\n",
       "      <th>0</th>\n",
       "      <td>2</td>\n",
       "      <td>2023-03-01 00:06:43</td>\n",
       "      <td>2023-03-01 00:16:43</td>\n",
       "      <td>1.0</td>\n",
       "      <td>0.00</td>\n",
       "      <td>1.0</td>\n",
       "      <td>N</td>\n",
       "      <td>238</td>\n",
       "      <td>42</td>\n",
       "      <td>2</td>\n",
       "      <td>8.6</td>\n",
       "      <td>1.0</td>\n",
       "      <td>0.5</td>\n",
       "      <td>0.00</td>\n",
       "      <td>0.0</td>\n",
       "      <td>1.0</td>\n",
       "      <td>11.10</td>\n",
       "      <td>0.0</td>\n",
       "      <td>0.00</td>\n",
       "    </tr>\n",
       "    <tr>\n",
       "      <th>1</th>\n",
       "      <td>2</td>\n",
       "      <td>2023-03-01 00:08:25</td>\n",
       "      <td>2023-03-01 00:39:30</td>\n",
       "      <td>2.0</td>\n",
       "      <td>12.40</td>\n",
       "      <td>1.0</td>\n",
       "      <td>N</td>\n",
       "      <td>138</td>\n",
       "      <td>231</td>\n",
       "      <td>1</td>\n",
       "      <td>52.7</td>\n",
       "      <td>6.0</td>\n",
       "      <td>0.5</td>\n",
       "      <td>12.54</td>\n",
       "      <td>0.0</td>\n",
       "      <td>1.0</td>\n",
       "      <td>76.49</td>\n",
       "      <td>2.5</td>\n",
       "      <td>1.25</td>\n",
       "    </tr>\n",
       "    <tr>\n",
       "      <th>2</th>\n",
       "      <td>1</td>\n",
       "      <td>2023-03-01 00:15:04</td>\n",
       "      <td>2023-03-01 00:29:26</td>\n",
       "      <td>0.0</td>\n",
       "      <td>3.30</td>\n",
       "      <td>1.0</td>\n",
       "      <td>N</td>\n",
       "      <td>140</td>\n",
       "      <td>186</td>\n",
       "      <td>1</td>\n",
       "      <td>18.4</td>\n",
       "      <td>3.5</td>\n",
       "      <td>0.5</td>\n",
       "      <td>4.65</td>\n",
       "      <td>0.0</td>\n",
       "      <td>1.0</td>\n",
       "      <td>28.05</td>\n",
       "      <td>2.5</td>\n",
       "      <td>0.00</td>\n",
       "    </tr>\n",
       "    <tr>\n",
       "      <th>3</th>\n",
       "      <td>1</td>\n",
       "      <td>2023-03-01 00:49:37</td>\n",
       "      <td>2023-03-01 01:01:05</td>\n",
       "      <td>1.0</td>\n",
       "      <td>2.90</td>\n",
       "      <td>1.0</td>\n",
       "      <td>N</td>\n",
       "      <td>140</td>\n",
       "      <td>43</td>\n",
       "      <td>1</td>\n",
       "      <td>15.6</td>\n",
       "      <td>3.5</td>\n",
       "      <td>0.5</td>\n",
       "      <td>4.10</td>\n",
       "      <td>0.0</td>\n",
       "      <td>1.0</td>\n",
       "      <td>24.70</td>\n",
       "      <td>2.5</td>\n",
       "      <td>0.00</td>\n",
       "    </tr>\n",
       "    <tr>\n",
       "      <th>4</th>\n",
       "      <td>2</td>\n",
       "      <td>2023-03-01 00:08:04</td>\n",
       "      <td>2023-03-01 00:11:06</td>\n",
       "      <td>1.0</td>\n",
       "      <td>1.23</td>\n",
       "      <td>1.0</td>\n",
       "      <td>N</td>\n",
       "      <td>79</td>\n",
       "      <td>137</td>\n",
       "      <td>1</td>\n",
       "      <td>7.2</td>\n",
       "      <td>1.0</td>\n",
       "      <td>0.5</td>\n",
       "      <td>2.44</td>\n",
       "      <td>0.0</td>\n",
       "      <td>1.0</td>\n",
       "      <td>14.64</td>\n",
       "      <td>2.5</td>\n",
       "      <td>0.00</td>\n",
       "    </tr>\n",
       "  </tbody>\n",
       "</table>\n",
       "</div>"
      ],
      "text/plain": [
       "   VendorID tpep_pickup_datetime tpep_dropoff_datetime  passenger_count  \\\n",
       "0         2  2023-03-01 00:06:43   2023-03-01 00:16:43              1.0   \n",
       "1         2  2023-03-01 00:08:25   2023-03-01 00:39:30              2.0   \n",
       "2         1  2023-03-01 00:15:04   2023-03-01 00:29:26              0.0   \n",
       "3         1  2023-03-01 00:49:37   2023-03-01 01:01:05              1.0   \n",
       "4         2  2023-03-01 00:08:04   2023-03-01 00:11:06              1.0   \n",
       "\n",
       "   trip_distance  RatecodeID store_and_fwd_flag  PULocationID  DOLocationID  \\\n",
       "0           0.00         1.0                  N           238            42   \n",
       "1          12.40         1.0                  N           138           231   \n",
       "2           3.30         1.0                  N           140           186   \n",
       "3           2.90         1.0                  N           140            43   \n",
       "4           1.23         1.0                  N            79           137   \n",
       "\n",
       "   payment_type  fare_amount  extra  mta_tax  tip_amount  tolls_amount  \\\n",
       "0             2          8.6    1.0      0.5        0.00           0.0   \n",
       "1             1         52.7    6.0      0.5       12.54           0.0   \n",
       "2             1         18.4    3.5      0.5        4.65           0.0   \n",
       "3             1         15.6    3.5      0.5        4.10           0.0   \n",
       "4             1          7.2    1.0      0.5        2.44           0.0   \n",
       "\n",
       "   improvement_surcharge  total_amount  congestion_surcharge  Airport_fee  \n",
       "0                    1.0         11.10                   0.0         0.00  \n",
       "1                    1.0         76.49                   2.5         1.25  \n",
       "2                    1.0         28.05                   2.5         0.00  \n",
       "3                    1.0         24.70                   2.5         0.00  \n",
       "4                    1.0         14.64                   2.5         0.00  "
      ]
     },
     "execution_count": 25,
     "metadata": {},
     "output_type": "execute_result"
    }
   ],
   "source": [
    "df_parquet = pd.read_parquet(r\"C:\\Users\\Kristina\\Downloads\\yellow_tripdata_2023-03.parquet\")\n",
    "df_parquet.head()"
   ]
  },
  {
   "cell_type": "markdown",
   "metadata": {
    "id": "ay8fDlhJ-2UM"
   },
   "source": [
    "## Задание 2.2.  Выполнить парсинг веб-страниц с помощью Beautiful Soup и Pandas открытых источников данных"
   ]
  },
  {
   "cell_type": "markdown",
   "metadata": {
    "id": "VrwqmREvSabO"
   },
   "source": [
    "[Источник данных - ИНОСТРАННЫЕ ЦЕННЫЕ БУМАГИ](https://spbexchange.ru/stocks/inostrannye/instruments/?page%3D0%26size%3D2200%26sortBy%3DsecurityKind%26sortByDirection%3Ddesc)"
   ]
  },
  {
   "cell_type": "markdown",
   "metadata": {
    "id": "L2HGb-AhpT0_"
   },
   "source": [
    "### Парсинг"
   ]
  },
  {
   "cell_type": "code",
   "execution_count": 26,
   "metadata": {
    "id": "StZB-ntuwzJq"
   },
   "outputs": [],
   "source": [
    "import requests\n",
    "from bs4 import BeautifulSoup\n",
    "import pandas as pd\n",
    "import matplotlib.pyplot as plt"
   ]
  },
  {
   "cell_type": "code",
   "execution_count": 27,
   "metadata": {
    "id": "DgqYJ5-Qw0c7"
   },
   "outputs": [],
   "source": [
    "url = 'https://spbexchange.ru/stocks/inostrannye/instruments/?page%3D0%26size%3D2200%26sortBy%3DsecurityKind%26sortByDirection%3Ddesc'"
   ]
  },
  {
   "cell_type": "code",
   "execution_count": 28,
   "metadata": {
    "id": "dEnWGRBqv_A8"
   },
   "outputs": [],
   "source": [
    "response = requests.get(url)\n",
    "soup = BeautifulSoup(response.content, 'html.parser')"
   ]
  },
  {
   "cell_type": "code",
   "execution_count": 29,
   "metadata": {},
   "outputs": [
    {
     "name": "stdout",
     "output_type": "stream",
     "text": [
      "<Response [200]>\n"
     ]
    }
   ],
   "source": [
    "print(response)"
   ]
  },
  {
   "cell_type": "code",
   "execution_count": 30,
   "metadata": {},
   "outputs": [
    {
     "name": "stdout",
     "output_type": "stream",
     "text": [
      "Content type: \n",
      "\t text/html; charset=utf-8\n"
     ]
    }
   ],
   "source": [
    "print(f\"Content type: \\n\\t {response.headers['content-type']}\")"
   ]
  },
  {
   "cell_type": "code",
   "execution_count": 31,
   "metadata": {},
   "outputs": [],
   "source": [
    "mysoup = bso(response.text, 'html.parser')"
   ]
  },
  {
   "cell_type": "code",
   "execution_count": 32,
   "metadata": {
    "scrolled": true
   },
   "outputs": [
    {
     "name": "stdout",
     "output_type": "stream",
     "text": [
      "<!DOCTYPE html>\n",
      "<html lang=\"ru\">\n",
      " <head>\n",
      "  <meta charset=\"utf-8\"/>\n",
      "  <title>\n",
      "   ПАО СПБ Биржа\n",
      "  </title>\n",
      "  <meta content=\"width=device-width, initial-scale=1\" name=\"viewport\"/>\n",
      "  <meta content=\"3\" name=\"next-head-count\"/>\n",
      "  <meta content=\"#01b3e2\" name=\"theme-color\"/>\n",
      "  <link as=\"style\" href=\"/_next/static/css/b12517d545c379a9.css\" rel=\"preload\"/>\n",
      "  <link data-n-g=\"\" href=\"/_next/static/css/b12517d545c379a9.css\" rel=\"stylesheet\"/>\n",
      "  <link as=\"style\" href=\"/_next/static/css/14ec8e5a16cd086a.css\" rel=\"preload\"/>\n",
      "  <link data-n-p=\"\" href=\"/_next/static/css/14ec8e5a16cd086a.css\" rel=\"stylesheet\"/>\n",
      "  <noscript data-n-css=\"\">\n",
      "  </noscript>\n",
      "  <script defer=\"\" nomodule=\"\" src=\"/_next/static/chunks/polyfills-c67a75d1b6f99dc8.js\">\n",
      "  </script>\n",
      "  <script defer=\"\" src=\"/_next/static/chunks/webpack-a707e99c69361791.js\">\n",
      "  </script>\n",
      "  <script defer=\"\" src=\"/_next/static/chunks/framework-f44ba79936f400b5.js\">\n",
      "  </script>\n",
      "  <script defer=\"\" src=\"/_next/static/chunks/main-6a353e1d47c9a3c4.js\">\n",
      "  </scrip\n"
     ]
    }
   ],
   "source": [
    "print(mysoup.prettify()[:1000])"
   ]
  },
  {
   "cell_type": "code",
   "execution_count": 33,
   "metadata": {},
   "outputs": [
    {
     "name": "stdout",
     "output_type": "stream",
     "text": [
      "<title>ПАО СПБ Биржа</title>\n"
     ]
    }
   ],
   "source": [
    "print(mysoup.title)"
   ]
  },
  {
   "cell_type": "code",
   "execution_count": 34,
   "metadata": {},
   "outputs": [
    {
     "name": "stdout",
     "output_type": "stream",
     "text": [
      "<table class=\"Table_display__TKDq5\">\n",
      " <thead>\n",
      "  <tr class=\"\">\n",
      "   <th class=\"TableCell_th__mYMx0 TableRow_rowCell__MR4GY\" style=\"min-width:20px\">\n",
      "    №\n",
      "   </th>\n",
      "   <th class=\"TableCell_th__mYMx0 TableRow_rowCell__MR4GY\" style=\"min-width:50px\">\n",
      "    Код ЦБ\n",
      "   </th>\n",
      "   <th class=\"TableCell_th__mYMx0 TableRow_rowCell__MR4GY\" style=\"min-width:120px\">\n",
      "    Наименование эмитента\n",
      "   </th>\n",
      "   <th class=\"TableCell_th__mYMx0 TableRow_rowCell__MR4GY\" style=\"min-width:100px\">\n",
      "    ISIN\n",
      "   </th>\n",
      "   <th class=\"TableCell_th__mYMx0 TableRow_rowCell__MR4GY\" style=\"min-width:30px\">\n",
      "    CFI\n",
      "   </th>\n",
      "   <th class=\"TableCell_th__mYMx0 TableRow_rowCell__MR4GY\" style=\"min-width:30px\">\n",
      "    Лот\n",
      "   </th>\n",
      "   <th class=\"TableCell_th__mYMx0 TableRow_rowCell__MR4GY\" style=\"min-width:40px\">\n",
      "    Шаг цены\n",
      "   </th>\n",
      "   <th class=\"TableCell_th__mYMx0 TableRow_rowCell__MR4GY\" style=\"min-width:50px\">\n",
      "    Валюта цены\n",
      "   </th>\n",
      "   <th class=\"TableCell_th__mYMx0 TableRow_rowCell__MR4GY\" style=\"min-width:40px\">\n",
      "    Дата начала торгов\n",
      "   </th>\n",
      "   <th class=\"TableCell_th__mYMx0 TableRow_rowCell__MR4GY\" style=\"min-width:70px\">\n",
      "    Вид, категория (тип) ЦБ\n",
      "   </th>\n",
      "   <th class=\"TableCell_th__mYMx0 TableRow_rowCell__MR4GY\" style=\"min-width:30px\">\n",
      "    Предназначены для квалифицированных инвесторов\n",
      "   </th>\n",
      "  </tr>\n",
      " </thead>\n",
      " <tbody>\n",
      "  <tr class=\"\">\n",
      "   <td class=\"TableRow_rowCell__MR4GY\">\n",
      "    1\n",
      "   </td>\n",
      "   <td class=\"TableRow_rowCell__MR4GY\">\n",
      "    <div class=\"SecuritiesLink_linkWrapper__JwiRc\">\n",
      "     <a class=\"SecuritiesLink_link__DiHYV\" href=\"https://investcab.ru/ru/inmarket/torg_instruments/card.aspx?issue=7468\" rel=\"noreferrer\" target=\"_blank\">\n",
      "      1\n",
      "     </a>\n",
      "    </div>\n",
      "   </td>\n",
      "   <td class=\"TableRow_rowCell__MR4GY\">\n",
      "    CK Hutchison Holdings Limited\n",
      "   </td>\n",
      "   <td class=\"TableRow_rowCell__MR4GY\">\n",
      "    KYG217651051\n",
      "   </td>\n",
      "   <td class=\"TableRow_rowCell__MR4GY\">\n",
      "    ESVUFR\n",
      "   </td>\n",
      "   <td class=\"TableRow_rowCell__MR4GY\">\n",
      "    10\n",
      "   </td>\n",
      "   <td class=\"TableRow_rowCell__MR4GY\">\n",
      "    0,05\n",
      "   </td>\n",
      "   <td class=\"Table\n"
     ]
    }
   ],
   "source": [
    "table_html = mysoup.table.prettify()\n",
    "print(table_html[:2000])"
   ]
  },
  {
   "cell_type": "code",
   "execution_count": 35,
   "metadata": {},
   "outputs": [
    {
     "data": {
      "text/html": [
       "<div>\n",
       "<style scoped>\n",
       "    .dataframe tbody tr th:only-of-type {\n",
       "        vertical-align: middle;\n",
       "    }\n",
       "\n",
       "    .dataframe tbody tr th {\n",
       "        vertical-align: top;\n",
       "    }\n",
       "\n",
       "    .dataframe thead th {\n",
       "        text-align: right;\n",
       "    }\n",
       "</style>\n",
       "<table border=\"1\" class=\"dataframe\">\n",
       "  <thead>\n",
       "    <tr style=\"text-align: right;\">\n",
       "      <th></th>\n",
       "      <th>№</th>\n",
       "      <th>Код ЦБ</th>\n",
       "      <th>Наименование эмитента</th>\n",
       "      <th>ISIN</th>\n",
       "      <th>CFI</th>\n",
       "      <th>Лот</th>\n",
       "      <th>Шаг цены</th>\n",
       "      <th>Валюта цены</th>\n",
       "      <th>Дата начала торгов</th>\n",
       "      <th>Вид, категория (тип) ЦБ</th>\n",
       "      <th>Предназначены для квалифицированных инвесторов</th>\n",
       "    </tr>\n",
       "  </thead>\n",
       "  <tbody>\n",
       "    <tr>\n",
       "      <th>0</th>\n",
       "      <td>1</td>\n",
       "      <td>1</td>\n",
       "      <td>CK Hutchison Holdings Limited</td>\n",
       "      <td>KYG217651051</td>\n",
       "      <td>ESVUFR</td>\n",
       "      <td>10</td>\n",
       "      <td>0,05</td>\n",
       "      <td>Гонконгский доллар</td>\n",
       "      <td>20.06.2022</td>\n",
       "      <td>Акции иностранного эмитента обыкновенные</td>\n",
       "      <td>Нет</td>\n",
       "    </tr>\n",
       "    <tr>\n",
       "      <th>1</th>\n",
       "      <td>2</td>\n",
       "      <td>101</td>\n",
       "      <td>Hang Lung Properties Limited</td>\n",
       "      <td>HK0101000591</td>\n",
       "      <td>ESVUFR</td>\n",
       "      <td>100</td>\n",
       "      <td>0,01</td>\n",
       "      <td>Гонконгский доллар</td>\n",
       "      <td>05.12.2022</td>\n",
       "      <td>Акции иностранного эмитента обыкновенные</td>\n",
       "      <td>Нет</td>\n",
       "    </tr>\n",
       "    <tr>\n",
       "      <th>2</th>\n",
       "      <td>3</td>\n",
       "      <td>1024</td>\n",
       "      <td>Kuaishou Technology</td>\n",
       "      <td>KYG532631028</td>\n",
       "      <td>ESVUFR</td>\n",
       "      <td>10</td>\n",
       "      <td>0,05</td>\n",
       "      <td>Гонконгский доллар</td>\n",
       "      <td>12.10.2022</td>\n",
       "      <td>Акции иностранного эмитента обыкновенные класса B</td>\n",
       "      <td>Нет</td>\n",
       "    </tr>\n",
       "    <tr>\n",
       "      <th>3</th>\n",
       "      <td>4</td>\n",
       "      <td>1038</td>\n",
       "      <td>CK Infrastructure Holdings Limited</td>\n",
       "      <td>BMG2178K1009</td>\n",
       "      <td>ESVUFR</td>\n",
       "      <td>10</td>\n",
       "      <td>0,05</td>\n",
       "      <td>Гонконгский доллар</td>\n",
       "      <td>05.12.2022</td>\n",
       "      <td>Акции иностранного эмитента обыкновенные</td>\n",
       "      <td>Нет</td>\n",
       "    </tr>\n",
       "    <tr>\n",
       "      <th>4</th>\n",
       "      <td>5</td>\n",
       "      <td>1044</td>\n",
       "      <td>Hengan International Group Company Limited</td>\n",
       "      <td>KYG4402L1510</td>\n",
       "      <td>ESVUFR</td>\n",
       "      <td>10</td>\n",
       "      <td>0,05</td>\n",
       "      <td>Гонконгский доллар</td>\n",
       "      <td>05.12.2022</td>\n",
       "      <td>Акции иностранного эмитента обыкновенные</td>\n",
       "      <td>Нет</td>\n",
       "    </tr>\n",
       "  </tbody>\n",
       "</table>\n",
       "</div>"
      ],
      "text/plain": [
       "   № Код ЦБ                       Наименование эмитента          ISIN     CFI  \\\n",
       "0  1      1               CK Hutchison Holdings Limited  KYG217651051  ESVUFR   \n",
       "1  2    101                Hang Lung Properties Limited  HK0101000591  ESVUFR   \n",
       "2  3   1024                         Kuaishou Technology  KYG532631028  ESVUFR   \n",
       "3  4   1038          CK Infrastructure Holdings Limited  BMG2178K1009  ESVUFR   \n",
       "4  5   1044  Hengan International Group Company Limited  KYG4402L1510  ESVUFR   \n",
       "\n",
       "   Лот Шаг цены         Валюта цены Дата начала торгов  \\\n",
       "0   10     0,05  Гонконгский доллар         20.06.2022   \n",
       "1  100     0,01  Гонконгский доллар         05.12.2022   \n",
       "2   10     0,05  Гонконгский доллар         12.10.2022   \n",
       "3   10     0,05  Гонконгский доллар         05.12.2022   \n",
       "4   10     0,05  Гонконгский доллар         05.12.2022   \n",
       "\n",
       "                             Вид, категория (тип) ЦБ  \\\n",
       "0           Акции иностранного эмитента обыкновенные   \n",
       "1           Акции иностранного эмитента обыкновенные   \n",
       "2  Акции иностранного эмитента обыкновенные класса B   \n",
       "3           Акции иностранного эмитента обыкновенные   \n",
       "4           Акции иностранного эмитента обыкновенные   \n",
       "\n",
       "  Предназначены для квалифицированных инвесторов  \n",
       "0                                            Нет  \n",
       "1                                            Нет  \n",
       "2                                            Нет  \n",
       "3                                            Нет  \n",
       "4                                            Нет  "
      ]
     },
     "execution_count": 35,
     "metadata": {},
     "output_type": "execute_result"
    }
   ],
   "source": [
    "columns = []  # Список для хранения заголовков столбцов\n",
    "data = []     # Список для хранения данных строк\n",
    "\n",
    "# Извлекаем заголовки столбцов из тегов <th> в таблице\n",
    "for th in mysoup.table.find_all('th'):\n",
    "    columns.append(th.text)  # Добавляем текст из тега <th> в список заголовков\n",
    "\n",
    "# Извлекаем данные из строк таблицы из тегов <tr> и <td>\n",
    "for tr in mysoup.table.find_all('tr')[1:]:  # Начинаем с 1, чтобы пропустить первую строку с заголовками\n",
    "    row = [td.text for td in tr.find_all('td')]  # Создаем список данных для каждой строки таблицы\n",
    "    data.append(row)  # Добавляем список данных строки в общий список данных\n",
    "\n",
    "# Создаем DataFrame, используя заголовки столбцов и данные строк\n",
    "df = pd.DataFrame(data, columns=columns)\n",
    "\n",
    "# Выводим первые строки DataFrame\n",
    "df.head()"
   ]
  },
  {
   "cell_type": "markdown",
   "metadata": {
    "id": "P889_zJF-iam"
   },
   "source": [
    "### Обработка данных"
   ]
  },
  {
   "cell_type": "code",
   "execution_count": 36,
   "metadata": {
    "colab": {
     "base_uri": "https://localhost:8080/"
    },
    "id": "uQmTHGtbxNm0",
    "outputId": "4c0fc5fe-b6a6-44a3-f7ce-5f9f09a648d7"
   },
   "outputs": [
    {
     "name": "stdout",
     "output_type": "stream",
     "text": [
      "<class 'pandas.core.frame.DataFrame'>\n",
      "RangeIndex: 2148 entries, 0 to 2147\n",
      "Data columns (total 11 columns):\n",
      " #   Column                                          Non-Null Count  Dtype \n",
      "---  ------                                          --------------  ----- \n",
      " 0   №                                               2148 non-null   object\n",
      " 1   Код ЦБ                                          2148 non-null   object\n",
      " 2   Наименование эмитента                           2148 non-null   object\n",
      " 3   ISIN                                            2148 non-null   object\n",
      " 4   CFI                                             2148 non-null   object\n",
      " 5   Лот                                             2148 non-null   object\n",
      " 6   Шаг цены                                        2148 non-null   object\n",
      " 7   Валюта цены                                     2148 non-null   object\n",
      " 8   Дата начала торгов                              2148 non-null   object\n",
      " 9   Вид, категория (тип) ЦБ                         2148 non-null   object\n",
      " 10  Предназначены для квалифицированных инвесторов  2148 non-null   object\n",
      "dtypes: object(11)\n",
      "memory usage: 184.7+ KB\n"
     ]
    }
   ],
   "source": [
    "df.info()"
   ]
  },
  {
   "cell_type": "code",
   "execution_count": 37,
   "metadata": {
    "colab": {
     "base_uri": "https://localhost:8080/"
    },
    "id": "lj8n00fZ095b",
    "outputId": "264a547d-94d2-4fea-af73-2e467b289e4d"
   },
   "outputs": [
    {
     "data": {
      "text/plain": [
       "(2148, 11)"
      ]
     },
     "execution_count": 37,
     "metadata": {},
     "output_type": "execute_result"
    }
   ],
   "source": [
    "df.shape"
   ]
  },
  {
   "cell_type": "code",
   "execution_count": 38,
   "metadata": {
    "colab": {
     "base_uri": "https://localhost:8080/"
    },
    "id": "jPqYlGRDyPBm",
    "outputId": "75d3adba-3f1e-482d-b397-616601ac976d"
   },
   "outputs": [
    {
     "name": "stderr",
     "output_type": "stream",
     "text": [
      "C:\\Users\\Kristina\\AppData\\Local\\Temp\\ipykernel_30688\\328605208.py:3: UserWarning: Parsing dates in %d.%m.%Y format when dayfirst=False (the default) was specified. Pass `dayfirst=True` or specify a format to silence this warning.\n",
      "  df['Дата начала торгов'] = pd.to_datetime(df['Дата начала торгов'])\n"
     ]
    }
   ],
   "source": [
    "df['Лот'] = df['Лот'].astype(int)\n",
    "df['Шаг цены'] = df['Шаг цены'].str.replace(',', '.').astype(float)\n",
    "df['Дата начала торгов'] = pd.to_datetime(df['Дата начала торгов'])"
   ]
  },
  {
   "cell_type": "code",
   "execution_count": 39,
   "metadata": {
    "colab": {
     "base_uri": "https://localhost:8080/"
    },
    "id": "OPD8W_QcyEyn",
    "outputId": "0c6dc784-64d5-4120-e8da-42624d641eee"
   },
   "outputs": [
    {
     "name": "stdout",
     "output_type": "stream",
     "text": [
      "<class 'pandas.core.frame.DataFrame'>\n",
      "RangeIndex: 2148 entries, 0 to 2147\n",
      "Data columns (total 11 columns):\n",
      " #   Column                                          Non-Null Count  Dtype         \n",
      "---  ------                                          --------------  -----         \n",
      " 0   №                                               2148 non-null   object        \n",
      " 1   Код ЦБ                                          2148 non-null   object        \n",
      " 2   Наименование эмитента                           2148 non-null   object        \n",
      " 3   ISIN                                            2148 non-null   object        \n",
      " 4   CFI                                             2148 non-null   object        \n",
      " 5   Лот                                             2148 non-null   int32         \n",
      " 6   Шаг цены                                        2148 non-null   float64       \n",
      " 7   Валюта цены                                     2148 non-null   object        \n",
      " 8   Дата начала торгов                              2148 non-null   datetime64[ns]\n",
      " 9   Вид, категория (тип) ЦБ                         2148 non-null   object        \n",
      " 10  Предназначены для квалифицированных инвесторов  2148 non-null   object        \n",
      "dtypes: datetime64[ns](1), float64(1), int32(1), object(8)\n",
      "memory usage: 176.3+ KB\n"
     ]
    }
   ],
   "source": [
    "df.info()"
   ]
  },
  {
   "cell_type": "markdown",
   "metadata": {
    "id": "auZvXp_9zoeH"
   },
   "source": [
    "**Результат:** изменены типы данных для полей: Лот, Шаг цены, Дата начала торгов"
   ]
  },
  {
   "cell_type": "code",
   "execution_count": 40,
   "metadata": {
    "id": "cSSA0IEXEe2u"
   },
   "outputs": [],
   "source": [
    "df['Год'] = df['Дата начала торгов'].dt.year"
   ]
  },
  {
   "cell_type": "markdown",
   "metadata": {
    "id": "u5UPv6r4Er0T"
   },
   "source": [
    "**Результат:** созданы новые столбцы год и месяц для анализа"
   ]
  },
  {
   "cell_type": "code",
   "execution_count": 41,
   "metadata": {
    "id": "UMX2kpmLKU1_"
   },
   "outputs": [],
   "source": [
    "df = df.drop(columns=df.columns[:2])"
   ]
  },
  {
   "cell_type": "markdown",
   "metadata": {
    "id": "KePMjfrfKh97"
   },
   "source": [
    "**Результат:** Удалены лишние столбцы"
   ]
  },
  {
   "cell_type": "markdown",
   "metadata": {
    "id": "te7du-82_BGQ"
   },
   "source": [
    "### Анализ данных"
   ]
  },
  {
   "cell_type": "markdown",
   "metadata": {
    "id": "WH-molDXJOMn"
   },
   "source": [
    "Описание данных:\n",
    "1. Наименование эмитента: Название организации, выпускающей ценные бумаги.\n",
    "2. ISIN: Международный идентификационный номер ценных бумаг, позволяющий однозначно определить ценную бумагу.\n",
    "3. CFI: Классификационная финансовая информация - код, который содержит информацию о финансовом инструменте.\n",
    "4. Лот: Минимальное количество ценных бумаг, которое можно купить или продать за одну сделку на бирже.\n",
    "5. Шаг цены: Минимальное изменение цены ценной бумаги, определяемое правилами торговли на бирже.\n",
    "6. Валюта цены: Валюта, в которой выражается цена ценной бумаги.\n",
    "7. Дата начала торгов: Дата начала торговли данными ценными бумагами.\n",
    "8. Вид, категория (тип) ЦБ: Классификация ценных бумаг по виду или категории.\n",
    "Предназначены для квалифицированных инвесторов: Информация о том, что данные ценные бумаги предназначены для квалифицированных инвесторов."
   ]
  },
  {
   "cell_type": "code",
   "execution_count": 42,
   "metadata": {
    "colab": {
     "base_uri": "https://localhost:8080/",
     "height": 213
    },
    "id": "eqBioGA7LHKz",
    "outputId": "7376ffb6-d59c-4c6b-8f27-5d6c8eb957a0"
   },
   "outputs": [
    {
     "data": {
      "text/html": [
       "<div>\n",
       "<style scoped>\n",
       "    .dataframe tbody tr th:only-of-type {\n",
       "        vertical-align: middle;\n",
       "    }\n",
       "\n",
       "    .dataframe tbody tr th {\n",
       "        vertical-align: top;\n",
       "    }\n",
       "\n",
       "    .dataframe thead th {\n",
       "        text-align: right;\n",
       "    }\n",
       "</style>\n",
       "<table border=\"1\" class=\"dataframe\">\n",
       "  <thead>\n",
       "    <tr style=\"text-align: right;\">\n",
       "      <th></th>\n",
       "      <th>Наименование эмитента</th>\n",
       "      <th>ISIN</th>\n",
       "      <th>CFI</th>\n",
       "      <th>Лот</th>\n",
       "      <th>Шаг цены</th>\n",
       "      <th>Валюта цены</th>\n",
       "      <th>Дата начала торгов</th>\n",
       "      <th>Вид, категория (тип) ЦБ</th>\n",
       "      <th>Предназначены для квалифицированных инвесторов</th>\n",
       "      <th>Год</th>\n",
       "    </tr>\n",
       "  </thead>\n",
       "  <tbody>\n",
       "    <tr>\n",
       "      <th>0</th>\n",
       "      <td>CK Hutchison Holdings Limited</td>\n",
       "      <td>KYG217651051</td>\n",
       "      <td>ESVUFR</td>\n",
       "      <td>10</td>\n",
       "      <td>0.05</td>\n",
       "      <td>Гонконгский доллар</td>\n",
       "      <td>2022-06-20</td>\n",
       "      <td>Акции иностранного эмитента обыкновенные</td>\n",
       "      <td>Нет</td>\n",
       "      <td>2022</td>\n",
       "    </tr>\n",
       "    <tr>\n",
       "      <th>1</th>\n",
       "      <td>Hang Lung Properties Limited</td>\n",
       "      <td>HK0101000591</td>\n",
       "      <td>ESVUFR</td>\n",
       "      <td>100</td>\n",
       "      <td>0.01</td>\n",
       "      <td>Гонконгский доллар</td>\n",
       "      <td>2022-12-05</td>\n",
       "      <td>Акции иностранного эмитента обыкновенные</td>\n",
       "      <td>Нет</td>\n",
       "      <td>2022</td>\n",
       "    </tr>\n",
       "    <tr>\n",
       "      <th>2</th>\n",
       "      <td>Kuaishou Technology</td>\n",
       "      <td>KYG532631028</td>\n",
       "      <td>ESVUFR</td>\n",
       "      <td>10</td>\n",
       "      <td>0.05</td>\n",
       "      <td>Гонконгский доллар</td>\n",
       "      <td>2022-10-12</td>\n",
       "      <td>Акции иностранного эмитента обыкновенные класса B</td>\n",
       "      <td>Нет</td>\n",
       "      <td>2022</td>\n",
       "    </tr>\n",
       "  </tbody>\n",
       "</table>\n",
       "</div>"
      ],
      "text/plain": [
       "           Наименование эмитента          ISIN     CFI  Лот  Шаг цены  \\\n",
       "0  CK Hutchison Holdings Limited  KYG217651051  ESVUFR   10      0.05   \n",
       "1   Hang Lung Properties Limited  HK0101000591  ESVUFR  100      0.01   \n",
       "2            Kuaishou Technology  KYG532631028  ESVUFR   10      0.05   \n",
       "\n",
       "          Валюта цены Дата начала торгов  \\\n",
       "0  Гонконгский доллар         2022-06-20   \n",
       "1  Гонконгский доллар         2022-12-05   \n",
       "2  Гонконгский доллар         2022-10-12   \n",
       "\n",
       "                             Вид, категория (тип) ЦБ  \\\n",
       "0           Акции иностранного эмитента обыкновенные   \n",
       "1           Акции иностранного эмитента обыкновенные   \n",
       "2  Акции иностранного эмитента обыкновенные класса B   \n",
       "\n",
       "  Предназначены для квалифицированных инвесторов   Год  \n",
       "0                                            Нет  2022  \n",
       "1                                            Нет  2022  \n",
       "2                                            Нет  2022  "
      ]
     },
     "execution_count": 42,
     "metadata": {},
     "output_type": "execute_result"
    }
   ],
   "source": [
    "df.head(3)"
   ]
  },
  {
   "cell_type": "code",
   "execution_count": 43,
   "metadata": {
    "colab": {
     "base_uri": "https://localhost:8080/"
    },
    "id": "KnM6JNKDCVda",
    "outputId": "03d156a4-bea4-47e8-c362-bf6b31d29a8a"
   },
   "outputs": [
    {
     "name": "stdout",
     "output_type": "stream",
     "text": [
      "Представлены данные за период с 2014-11-28 00:00:00 по 2024-01-08 00:00:00\n"
     ]
    }
   ],
   "source": [
    "print(f'Представлены данные за период с {min(df[\"Дата начала торгов\"])} по {max(df[\"Дата начала торгов\"])}')"
   ]
  },
  {
   "cell_type": "code",
   "execution_count": 44,
   "metadata": {
    "colab": {
     "base_uri": "https://localhost:8080/",
     "height": 237
    },
    "id": "O4Tr7RW__Gw0",
    "outputId": "9ca125a7-7bca-49c0-cb7b-a6852b713ef8"
   },
   "outputs": [
    {
     "data": {
      "text/html": [
       "<div>\n",
       "<style scoped>\n",
       "    .dataframe tbody tr th:only-of-type {\n",
       "        vertical-align: middle;\n",
       "    }\n",
       "\n",
       "    .dataframe tbody tr th {\n",
       "        vertical-align: top;\n",
       "    }\n",
       "\n",
       "    .dataframe thead th {\n",
       "        text-align: right;\n",
       "    }\n",
       "</style>\n",
       "<table border=\"1\" class=\"dataframe\">\n",
       "  <thead>\n",
       "    <tr style=\"text-align: right;\">\n",
       "      <th></th>\n",
       "      <th>ISIN</th>\n",
       "    </tr>\n",
       "    <tr>\n",
       "      <th>Вид, категория (тип) ЦБ</th>\n",
       "      <th></th>\n",
       "    </tr>\n",
       "  </thead>\n",
       "  <tbody>\n",
       "    <tr>\n",
       "      <th>Акции иностранного эмитента обыкновенные</th>\n",
       "      <td>1547</td>\n",
       "    </tr>\n",
       "    <tr>\n",
       "      <th>Акции иностранного эмитента обыкновенные класса A</th>\n",
       "      <td>217</td>\n",
       "    </tr>\n",
       "    <tr>\n",
       "      <th>Акции иностранного эмитента обыкновенные класса H</th>\n",
       "      <td>73</td>\n",
       "    </tr>\n",
       "    <tr>\n",
       "      <th>Облигации иностранного эмитента</th>\n",
       "      <td>24</td>\n",
       "    </tr>\n",
       "    <tr>\n",
       "      <th>Акции иностранного эмитента обыкновенные класса B</th>\n",
       "      <td>18</td>\n",
       "    </tr>\n",
       "  </tbody>\n",
       "</table>\n",
       "</div>"
      ],
      "text/plain": [
       "                                                   ISIN\n",
       "Вид, категория (тип) ЦБ                                \n",
       "Акции иностранного эмитента обыкновенные           1547\n",
       "Акции иностранного эмитента обыкновенные класса A   217\n",
       "Акции иностранного эмитента обыкновенные класса H    73\n",
       "Облигации иностранного эмитента                      24\n",
       "Акции иностранного эмитента обыкновенные класса B    18"
      ]
     },
     "execution_count": 44,
     "metadata": {},
     "output_type": "execute_result"
    }
   ],
   "source": [
    "df1 = df.pivot_table(index='Вид, категория (тип) ЦБ', values='ISIN', aggfunc='count').sort_values(by='ISIN', ascending=False).head(5)\n",
    "df1"
   ]
  },
  {
   "cell_type": "code",
   "execution_count": 45,
   "metadata": {
    "colab": {
     "base_uri": "https://localhost:8080/",
     "height": 424
    },
    "id": "VSYk0mKE_1DC",
    "outputId": "58e71988-1648-4866-a50a-a25297cc422f"
   },
   "outputs": [
    {
     "data": {
      "image/png": "[encoded data removed]",
      "text/plain": [
       "<Figure size 640x480 with 1 Axes>"
      ]
     },
     "metadata": {},
     "output_type": "display_data"
    }
   ],
   "source": [
    "df1.plot(kind='pie', subplots=True, legend=False, autopct='%1.1f%%')\n",
    "plt.title('Топ-5 категорий ценных бумаг')\n",
    "plt.show()"
   ]
  },
  {
   "cell_type": "markdown",
   "metadata": {
    "id": "HUf2qMPp9UK-"
   },
   "source": [
    "**Вывод:**\n",
    "\n",
    "*  Самым распространенным типом ценных бумаг в данной выборке являются обыкновенные акции иностранных эмитентов, их количество составляет 1552 штуки. Это может указывать на то, что инвесторы активно интересуются инвестированием в акции иностранных компаний.\n",
    "*   В данных также присутствуют различные классы обыкновенных акций иностранных эмитентов, такие как \"класс A\", \"класс H\" и \"класс B\". Это может свидетельствовать о различных правах и привилегиях, связанных с каждым классом акций, что может быть привлекательным для различных инвесторов."
   ]
  },
  {
   "cell_type": "code",
   "execution_count": 46,
   "metadata": {
    "colab": {
     "base_uri": "https://localhost:8080/",
     "height": 300
    },
    "id": "coZBV83d9Soj",
    "outputId": "9f5ebeb9-c13a-487e-fb14-c6d21acdc649"
   },
   "outputs": [
    {
     "data": {
      "text/html": [
       "<div>\n",
       "<style scoped>\n",
       "    .dataframe tbody tr th:only-of-type {\n",
       "        vertical-align: middle;\n",
       "    }\n",
       "\n",
       "    .dataframe tbody tr th {\n",
       "        vertical-align: top;\n",
       "    }\n",
       "\n",
       "    .dataframe thead th {\n",
       "        text-align: right;\n",
       "    }\n",
       "</style>\n",
       "<table border=\"1\" class=\"dataframe\">\n",
       "  <thead>\n",
       "    <tr style=\"text-align: right;\">\n",
       "      <th></th>\n",
       "      <th>ISIN</th>\n",
       "    </tr>\n",
       "    <tr>\n",
       "      <th>Валюта цены</th>\n",
       "      <th></th>\n",
       "    </tr>\n",
       "  </thead>\n",
       "  <tbody>\n",
       "    <tr>\n",
       "      <th>Доллар США</th>\n",
       "      <td>1919</td>\n",
       "    </tr>\n",
       "    <tr>\n",
       "      <th>Гонконгский доллар</th>\n",
       "      <td>160</td>\n",
       "    </tr>\n",
       "    <tr>\n",
       "      <th>Евро</th>\n",
       "      <td>37</td>\n",
       "    </tr>\n",
       "    <tr>\n",
       "      <th>Процент от номинальной стоимости</th>\n",
       "      <td>25</td>\n",
       "    </tr>\n",
       "    <tr>\n",
       "      <th>Юань</th>\n",
       "      <td>6</td>\n",
       "    </tr>\n",
       "    <tr>\n",
       "      <th>Тенге</th>\n",
       "      <td>1</td>\n",
       "    </tr>\n",
       "  </tbody>\n",
       "</table>\n",
       "</div>"
      ],
      "text/plain": [
       "                                  ISIN\n",
       "Валюта цены                           \n",
       "Доллар США                        1919\n",
       "Гонконгский доллар                 160\n",
       "Евро                                37\n",
       "Процент от номинальной стоимости    25\n",
       "Юань                                 6\n",
       "Тенге                                1"
      ]
     },
     "execution_count": 46,
     "metadata": {},
     "output_type": "execute_result"
    }
   ],
   "source": [
    "df2 = df.pivot_table(index='Валюта цены', values='ISIN', aggfunc='count').sort_values(by='ISIN', ascending=False)\n",
    "df2"
   ]
  },
  {
   "cell_type": "code",
   "execution_count": 47,
   "metadata": {
    "colab": {
     "base_uri": "https://localhost:8080/",
     "height": 539
    },
    "id": "Mg06Yy6iBD7G",
    "outputId": "9a60c4ed-4e4e-4ddd-c156-38c307f19612"
   },
   "outputs": [
    {
     "data": {
      "image/png": "[encoded data removed]",
      "text/plain": [
       "<Figure size 1000x300 with 1 Axes>"
      ]
     },
     "metadata": {},
     "output_type": "display_data"
    }
   ],
   "source": [
    "df2.plot(kind='bar', figsize=(10, 3))\n",
    "plt.xticks(rotation=-60)\n",
    "plt.title('Разпределение валют на бирже')\n",
    "plt.show()"
   ]
  },
  {
   "cell_type": "markdown",
   "metadata": {
    "id": "zSJR2tZRBWqV"
   },
   "source": [
    "**Вывод:**\n",
    "Наиболее распространенной валютой для цен является доллар США, за которым следует гонконгский доллар и евро."
   ]
  },
  {
   "cell_type": "code",
   "execution_count": 48,
   "metadata": {
    "colab": {
     "base_uri": "https://localhost:8080/",
     "height": 425
    },
    "id": "fFbabmSu7Bp9",
    "outputId": "79a79509-7278-4796-bd9e-5a6f585f02cb"
   },
   "outputs": [
    {
     "data": {
      "text/html": [
       "<div>\n",
       "<style scoped>\n",
       "    .dataframe tbody tr th:only-of-type {\n",
       "        vertical-align: middle;\n",
       "    }\n",
       "\n",
       "    .dataframe tbody tr th {\n",
       "        vertical-align: top;\n",
       "    }\n",
       "\n",
       "    .dataframe thead th {\n",
       "        text-align: right;\n",
       "    }\n",
       "</style>\n",
       "<table border=\"1\" class=\"dataframe\">\n",
       "  <thead>\n",
       "    <tr style=\"text-align: right;\">\n",
       "      <th></th>\n",
       "      <th>ISIN</th>\n",
       "    </tr>\n",
       "    <tr>\n",
       "      <th>Год</th>\n",
       "      <th></th>\n",
       "    </tr>\n",
       "  </thead>\n",
       "  <tbody>\n",
       "    <tr>\n",
       "      <th>2014</th>\n",
       "      <td>40</td>\n",
       "    </tr>\n",
       "    <tr>\n",
       "      <th>2015</th>\n",
       "      <td>5</td>\n",
       "    </tr>\n",
       "    <tr>\n",
       "      <th>2016</th>\n",
       "      <td>136</td>\n",
       "    </tr>\n",
       "    <tr>\n",
       "      <th>2017</th>\n",
       "      <td>261</td>\n",
       "    </tr>\n",
       "    <tr>\n",
       "      <th>2018</th>\n",
       "      <td>19</td>\n",
       "    </tr>\n",
       "    <tr>\n",
       "      <th>2019</th>\n",
       "      <td>563</td>\n",
       "    </tr>\n",
       "    <tr>\n",
       "      <th>2020</th>\n",
       "      <td>289</td>\n",
       "    </tr>\n",
       "    <tr>\n",
       "      <th>2021</th>\n",
       "      <td>224</td>\n",
       "    </tr>\n",
       "    <tr>\n",
       "      <th>2022</th>\n",
       "      <td>413</td>\n",
       "    </tr>\n",
       "    <tr>\n",
       "      <th>2023</th>\n",
       "      <td>197</td>\n",
       "    </tr>\n",
       "    <tr>\n",
       "      <th>2024</th>\n",
       "      <td>1</td>\n",
       "    </tr>\n",
       "  </tbody>\n",
       "</table>\n",
       "</div>"
      ],
      "text/plain": [
       "      ISIN\n",
       "Год       \n",
       "2014    40\n",
       "2015     5\n",
       "2016   136\n",
       "2017   261\n",
       "2018    19\n",
       "2019   563\n",
       "2020   289\n",
       "2021   224\n",
       "2022   413\n",
       "2023   197\n",
       "2024     1"
      ]
     },
     "execution_count": 48,
     "metadata": {},
     "output_type": "execute_result"
    }
   ],
   "source": [
    "df3 = df.pivot_table(index='Год', values='ISIN', aggfunc='count')\n",
    "df3"
   ]
  },
  {
   "cell_type": "code",
   "execution_count": 49,
   "metadata": {
    "colab": {
     "base_uri": "https://localhost:8080/",
     "height": 333
    },
    "id": "jdu4wbCGCP2I",
    "outputId": "b4d0c01e-f4e2-42b4-9a33-46b8a46370b5"
   },
   "outputs": [
    {
     "data": {
      "image/png": "[encoded data removed]",
      "text/plain": [
       "<Figure size 1200x300 with 1 Axes>"
      ]
     },
     "metadata": {},
     "output_type": "display_data"
    }
   ],
   "source": [
    "df3.plot(figsize=(12, 3))\n",
    "plt.title('Количество записей о торгах по годам')\n",
    "plt.xticks(df3.index)\n",
    "\n",
    "plt.show()"
   ]
  },
  {
   "cell_type": "markdown",
   "metadata": {
    "id": "SJyR21gAG19y"
   },
   "source": [
    "**Вывод:**\n",
    "1.   Наблюдается общий тренд на увеличение количества записей о торгах с течением времени с небольшими колебаниями в определенные годы.\n",
    "2.   В 2019 и 2022 годах отмечается пик активности, с наибольшим количеством записей за весь период, что может указывать на периоды повышенной активности на рынке или особых событий."
   ]
  },
  {
   "cell_type": "code",
   "execution_count": 51,
   "metadata": {},
   "outputs": [
    {
     "data": {
      "image/png": "[encoded data removed]",
      "text/plain": [
       "<IPython.core.display.Image object>"
      ]
     },
     "execution_count": 51,
     "metadata": {},
     "output_type": "execute_result"
    }
   ],
   "source": [
    "Image(filename=r'C:\\Users\\marin\\Downloads\\Задание 1.2.drawio.png')"
   ]
  },
  {
   "cell_type": "markdown",
   "metadata": {
    "id": "JYd1QoP1Lw8l"
   },
   "source": [
    "## Задание 2.3. Выполнить парсинг коллекции данных на Портале открытых данных Правительства Москвы"
   ]
  },
  {
   "cell_type": "markdown",
   "metadata": {},
   "source": [
    "[Источник данных - Перечень олимпиад школьников](https://data.mos.ru/opendata/2001?pageSize=10&pageIndex=0&version=2&release=22)"
   ]
  },
  {
   "cell_type": "code",
   "execution_count": 50,
   "metadata": {
    "id": "z5XtRB3nNaKQ"
   },
   "outputs": [],
   "source": [
    "# Импорт стандартных пакетов\n",
    "import pandas as pd\n",
    "\n",
    "# Для парсинга веб-страниц\n",
    "import requests as reqs\n",
    "import urllib.request\n",
    "from bs4 import BeautifulSoup\n",
    "import json\n",
    "import os\n",
    "import pprint\n",
    "from bs4 import BeautifulSoup as bso\n",
    "\n",
    "# Для выполнения операций с регулярными выражениями\n",
    "import re"
   ]
  },
  {
   "cell_type": "code",
   "execution_count": 51,
   "metadata": {
    "colab": {
     "base_uri": "https://localhost:8080/",
     "height": 406
    },
    "id": "sM-e6W2ZQO0q",
    "outputId": "103d1cbf-312a-4fd4-e394-deec3c969300"
   },
   "outputs": [],
   "source": [
    "import requests\n",
    "\n",
    "url = 'https://apidata.mos.ru/v1/datasets/2001/features?api_key=d4a90fd5-f352-4206-a8d7-da61d1e66da0'\n",
    "headers = {'Accept': 'application/json'}\n",
    "\n",
    "response = requests.get(url, headers=headers)"
   ]
  },
  {
   "cell_type": "code",
   "execution_count": 52,
   "metadata": {},
   "outputs": [
    {
     "name": "stdout",
     "output_type": "stream",
     "text": [
      "URL: \n",
      "\t https://apidata.mos.ru/v1/datasets/2001/features?api_key=d4a90fd5-f352-4206-a8d7-da61d1e66da0\n"
     ]
    }
   ],
   "source": [
    "print(f\"URL: \\n\\t {response.url}\")"
   ]
  },
  {
   "cell_type": "code",
   "execution_count": 53,
   "metadata": {},
   "outputs": [
    {
     "name": "stdout",
     "output_type": "stream",
     "text": [
      "Content type: \n",
      "\t application/json\n"
     ]
    }
   ],
   "source": [
    "print(f\"Content type: \\n\\t {response.headers['content-type']}\")"
   ]
  },
  {
   "cell_type": "code",
   "execution_count": 54,
   "metadata": {},
   "outputs": [],
   "source": [
    "if response.status_code == 200:\n",
    "    json_data = response.json()  # Преобразуем JSON-ответ в словарь Python\n",
    "\n",
    "    features = json_data['features']\n",
    "\n",
    "    # Создаем датафрейм из полученных данных\n",
    "    df = pd.json_normalize(features)\n",
    "else:\n",
    "    print('Запрос вернул статус:', response.status_code)"
   ]
  },
  {
   "cell_type": "code",
   "execution_count": 55,
   "metadata": {},
   "outputs": [
    {
     "data": {
      "text/html": [
       "<div>\n",
       "<style scoped>\n",
       "    .dataframe tbody tr th:only-of-type {\n",
       "        vertical-align: middle;\n",
       "    }\n",
       "\n",
       "    .dataframe tbody tr th {\n",
       "        vertical-align: top;\n",
       "    }\n",
       "\n",
       "    .dataframe thead th {\n",
       "        text-align: right;\n",
       "    }\n",
       "</style>\n",
       "<table border=\"1\" class=\"dataframe\">\n",
       "  <thead>\n",
       "    <tr style=\"text-align: right;\">\n",
       "      <th></th>\n",
       "      <th>geometry</th>\n",
       "      <th>type</th>\n",
       "      <th>properties.datasetId</th>\n",
       "      <th>properties.attributes.is_deleted</th>\n",
       "      <th>properties.attributes.ID</th>\n",
       "      <th>properties.attributes.OlympiadName</th>\n",
       "      <th>properties.attributes.OlympiadProfile</th>\n",
       "      <th>properties.attributes.OlympiadType</th>\n",
       "      <th>properties.attributes.Class</th>\n",
       "      <th>properties.attributes.Stage</th>\n",
       "      <th>properties.attributes.OlympiadDate</th>\n",
       "      <th>properties.attributes.SchoolYear</th>\n",
       "      <th>properties.attributes.WebSite</th>\n",
       "      <th>properties.attributes.global_id</th>\n",
       "      <th>properties.rowId</th>\n",
       "      <th>properties.versionNumber</th>\n",
       "      <th>properties.releaseNumber</th>\n",
       "    </tr>\n",
       "  </thead>\n",
       "  <tbody>\n",
       "    <tr>\n",
       "      <th>0</th>\n",
       "      <td>None</td>\n",
       "      <td>Feature</td>\n",
       "      <td>2001</td>\n",
       "      <td>0</td>\n",
       "      <td>43</td>\n",
       "      <td>Всероссийская олимпиада школьников по технологии</td>\n",
       "      <td>Технология</td>\n",
       "      <td>Всероссийская олимпиада</td>\n",
       "      <td>7 - 11</td>\n",
       "      <td>2.0</td>\n",
       "      <td>05.12.2015</td>\n",
       "      <td>2015</td>\n",
       "      <td>[{'is_deleted': 0, 'WebSite': 'vos.olimpiada.r...</td>\n",
       "      <td>39706536</td>\n",
       "      <td>None</td>\n",
       "      <td>2</td>\n",
       "      <td>22</td>\n",
       "    </tr>\n",
       "    <tr>\n",
       "      <th>1</th>\n",
       "      <td>None</td>\n",
       "      <td>Feature</td>\n",
       "      <td>2001</td>\n",
       "      <td>0</td>\n",
       "      <td>44</td>\n",
       "      <td>Всероссийская олимпиада школьников по технологии</td>\n",
       "      <td>Технология</td>\n",
       "      <td>Всероссийская олимпиада</td>\n",
       "      <td>9 - 11</td>\n",
       "      <td>3.0</td>\n",
       "      <td>01.02.2016-02.02.2016</td>\n",
       "      <td>2016</td>\n",
       "      <td>[{'is_deleted': 0, 'WebSite': 'vos.olimpiada.r...</td>\n",
       "      <td>39706537</td>\n",
       "      <td>None</td>\n",
       "      <td>2</td>\n",
       "      <td>22</td>\n",
       "    </tr>\n",
       "    <tr>\n",
       "      <th>2</th>\n",
       "      <td>None</td>\n",
       "      <td>Feature</td>\n",
       "      <td>2001</td>\n",
       "      <td>0</td>\n",
       "      <td>45</td>\n",
       "      <td>Математический праздник</td>\n",
       "      <td>Математика</td>\n",
       "      <td>Московская олимпиада</td>\n",
       "      <td>6 - 7</td>\n",
       "      <td>NaN</td>\n",
       "      <td>21.02.2016</td>\n",
       "      <td>2016</td>\n",
       "      <td>[{'is_deleted': 0, 'WebSite': 'olympiads.mccme...</td>\n",
       "      <td>39706538</td>\n",
       "      <td>None</td>\n",
       "      <td>2</td>\n",
       "      <td>22</td>\n",
       "    </tr>\n",
       "    <tr>\n",
       "      <th>3</th>\n",
       "      <td>None</td>\n",
       "      <td>Feature</td>\n",
       "      <td>2001</td>\n",
       "      <td>0</td>\n",
       "      <td>46</td>\n",
       "      <td>Московская олимпиада школьников по астрономии</td>\n",
       "      <td>Астрономия</td>\n",
       "      <td>Московская олимпиада</td>\n",
       "      <td>5 - 11</td>\n",
       "      <td>NaN</td>\n",
       "      <td>06.02.2016</td>\n",
       "      <td>2016</td>\n",
       "      <td>[{'is_deleted': 0, 'WebSite': 'astroolymp.ru/'...</td>\n",
       "      <td>39706540</td>\n",
       "      <td>None</td>\n",
       "      <td>2</td>\n",
       "      <td>22</td>\n",
       "    </tr>\n",
       "    <tr>\n",
       "      <th>4</th>\n",
       "      <td>None</td>\n",
       "      <td>Feature</td>\n",
       "      <td>2001</td>\n",
       "      <td>0</td>\n",
       "      <td>47</td>\n",
       "      <td>Московская олимпиада школьников по астрономии</td>\n",
       "      <td>Астрономия</td>\n",
       "      <td>Московская олимпиада</td>\n",
       "      <td>5 - 11</td>\n",
       "      <td>NaN</td>\n",
       "      <td>09.12.2015-18.01.2016</td>\n",
       "      <td>2016</td>\n",
       "      <td>[{'is_deleted': 0, 'WebSite': 'astroolymp.ru/'...</td>\n",
       "      <td>39706541</td>\n",
       "      <td>None</td>\n",
       "      <td>2</td>\n",
       "      <td>22</td>\n",
       "    </tr>\n",
       "    <tr>\n",
       "      <th>...</th>\n",
       "      <td>...</td>\n",
       "      <td>...</td>\n",
       "      <td>...</td>\n",
       "      <td>...</td>\n",
       "      <td>...</td>\n",
       "      <td>...</td>\n",
       "      <td>...</td>\n",
       "      <td>...</td>\n",
       "      <td>...</td>\n",
       "      <td>...</td>\n",
       "      <td>...</td>\n",
       "      <td>...</td>\n",
       "      <td>...</td>\n",
       "      <td>...</td>\n",
       "      <td>...</td>\n",
       "      <td>...</td>\n",
       "      <td>...</td>\n",
       "    </tr>\n",
       "    <tr>\n",
       "      <th>995</th>\n",
       "      <td>None</td>\n",
       "      <td>Feature</td>\n",
       "      <td>2001</td>\n",
       "      <td>0</td>\n",
       "      <td>1067</td>\n",
       "      <td>Всероссийская олимпиада школьников по общество...</td>\n",
       "      <td>Обществознание</td>\n",
       "      <td>Всероссийская олимпиада</td>\n",
       "      <td>7 - 11</td>\n",
       "      <td>2.0</td>\n",
       "      <td>29.10.2022</td>\n",
       "      <td>2022</td>\n",
       "      <td>[{'is_deleted': 0, 'WebSite': 'vos.olimpiada.r...</td>\n",
       "      <td>2390260878</td>\n",
       "      <td>None</td>\n",
       "      <td>2</td>\n",
       "      <td>22</td>\n",
       "    </tr>\n",
       "    <tr>\n",
       "      <th>996</th>\n",
       "      <td>None</td>\n",
       "      <td>Feature</td>\n",
       "      <td>2001</td>\n",
       "      <td>0</td>\n",
       "      <td>1068</td>\n",
       "      <td>Всероссийская олимпиада школьников по экологии</td>\n",
       "      <td>Экология</td>\n",
       "      <td>Всероссийская олимпиада</td>\n",
       "      <td>7 - 11</td>\n",
       "      <td>2.0</td>\n",
       "      <td>07.11.2022</td>\n",
       "      <td>2022</td>\n",
       "      <td>[{'is_deleted': 0, 'WebSite': 'vos.olimpiada.r...</td>\n",
       "      <td>2390260879</td>\n",
       "      <td>None</td>\n",
       "      <td>2</td>\n",
       "      <td>22</td>\n",
       "    </tr>\n",
       "    <tr>\n",
       "      <th>997</th>\n",
       "      <td>None</td>\n",
       "      <td>Feature</td>\n",
       "      <td>2001</td>\n",
       "      <td>0</td>\n",
       "      <td>1069</td>\n",
       "      <td>Всероссийская олимпиада школьников по технологии</td>\n",
       "      <td>Технология</td>\n",
       "      <td>Всероссийская олимпиада</td>\n",
       "      <td>7 - 11</td>\n",
       "      <td>2.0</td>\n",
       "      <td>08.11.2022</td>\n",
       "      <td>2022</td>\n",
       "      <td>[{'is_deleted': 0, 'WebSite': 'vos.olimpiada.r...</td>\n",
       "      <td>2390260881</td>\n",
       "      <td>None</td>\n",
       "      <td>2</td>\n",
       "      <td>22</td>\n",
       "    </tr>\n",
       "    <tr>\n",
       "      <th>998</th>\n",
       "      <td>None</td>\n",
       "      <td>Feature</td>\n",
       "      <td>2001</td>\n",
       "      <td>0</td>\n",
       "      <td>1070</td>\n",
       "      <td>Всероссийская олимпиада школьников по французс...</td>\n",
       "      <td>Иностранный язык (французский язык)</td>\n",
       "      <td>Всероссийская олимпиада</td>\n",
       "      <td>7 - 11</td>\n",
       "      <td>2.0</td>\n",
       "      <td>09.11.2022</td>\n",
       "      <td>2022</td>\n",
       "      <td>[{'is_deleted': 0, 'WebSite': 'vos.olimpiada.r...</td>\n",
       "      <td>2390260882</td>\n",
       "      <td>None</td>\n",
       "      <td>2</td>\n",
       "      <td>22</td>\n",
       "    </tr>\n",
       "    <tr>\n",
       "      <th>999</th>\n",
       "      <td>None</td>\n",
       "      <td>Feature</td>\n",
       "      <td>2001</td>\n",
       "      <td>0</td>\n",
       "      <td>1071</td>\n",
       "      <td>Всероссийская олимпиада школьников по физике</td>\n",
       "      <td>Физика</td>\n",
       "      <td>Всероссийская олимпиада</td>\n",
       "      <td>9 - 11</td>\n",
       "      <td>2.0</td>\n",
       "      <td>10.11.2022</td>\n",
       "      <td>2022</td>\n",
       "      <td>[{'is_deleted': 0, 'WebSite': 'vos.olimpiada.r...</td>\n",
       "      <td>2390260884</td>\n",
       "      <td>None</td>\n",
       "      <td>2</td>\n",
       "      <td>22</td>\n",
       "    </tr>\n",
       "  </tbody>\n",
       "</table>\n",
       "<p>1000 rows × 17 columns</p>\n",
       "</div>"
      ],
      "text/plain": [
       "    geometry     type  properties.datasetId  properties.attributes.is_deleted  \\\n",
       "0       None  Feature                  2001                                 0   \n",
       "1       None  Feature                  2001                                 0   \n",
       "2       None  Feature                  2001                                 0   \n",
       "3       None  Feature                  2001                                 0   \n",
       "4       None  Feature                  2001                                 0   \n",
       "..       ...      ...                   ...                               ...   \n",
       "995     None  Feature                  2001                                 0   \n",
       "996     None  Feature                  2001                                 0   \n",
       "997     None  Feature                  2001                                 0   \n",
       "998     None  Feature                  2001                                 0   \n",
       "999     None  Feature                  2001                                 0   \n",
       "\n",
       "     properties.attributes.ID  \\\n",
       "0                          43   \n",
       "1                          44   \n",
       "2                          45   \n",
       "3                          46   \n",
       "4                          47   \n",
       "..                        ...   \n",
       "995                      1067   \n",
       "996                      1068   \n",
       "997                      1069   \n",
       "998                      1070   \n",
       "999                      1071   \n",
       "\n",
       "                    properties.attributes.OlympiadName  \\\n",
       "0     Всероссийская олимпиада школьников по технологии   \n",
       "1     Всероссийская олимпиада школьников по технологии   \n",
       "2                              Математический праздник   \n",
       "3        Московская олимпиада школьников по астрономии   \n",
       "4        Московская олимпиада школьников по астрономии   \n",
       "..                                                 ...   \n",
       "995  Всероссийская олимпиада школьников по общество...   \n",
       "996     Всероссийская олимпиада школьников по экологии   \n",
       "997   Всероссийская олимпиада школьников по технологии   \n",
       "998  Всероссийская олимпиада школьников по французс...   \n",
       "999       Всероссийская олимпиада школьников по физике   \n",
       "\n",
       "    properties.attributes.OlympiadProfile properties.attributes.OlympiadType  \\\n",
       "0                              Технология            Всероссийская олимпиада   \n",
       "1                              Технология            Всероссийская олимпиада   \n",
       "2                              Математика               Московская олимпиада   \n",
       "3                              Астрономия               Московская олимпиада   \n",
       "4                              Астрономия               Московская олимпиада   \n",
       "..                                    ...                                ...   \n",
       "995                        Обществознание            Всероссийская олимпиада   \n",
       "996                              Экология            Всероссийская олимпиада   \n",
       "997                            Технология            Всероссийская олимпиада   \n",
       "998   Иностранный язык (французский язык)            Всероссийская олимпиада   \n",
       "999                                Физика            Всероссийская олимпиада   \n",
       "\n",
       "    properties.attributes.Class  properties.attributes.Stage  \\\n",
       "0                        7 - 11                          2.0   \n",
       "1                        9 - 11                          3.0   \n",
       "2                         6 - 7                          NaN   \n",
       "3                        5 - 11                          NaN   \n",
       "4                        5 - 11                          NaN   \n",
       "..                          ...                          ...   \n",
       "995                      7 - 11                          2.0   \n",
       "996                      7 - 11                          2.0   \n",
       "997                      7 - 11                          2.0   \n",
       "998                      7 - 11                          2.0   \n",
       "999                      9 - 11                          2.0   \n",
       "\n",
       "    properties.attributes.OlympiadDate properties.attributes.SchoolYear  \\\n",
       "0                           05.12.2015                             2015   \n",
       "1                01.02.2016-02.02.2016                             2016   \n",
       "2                           21.02.2016                             2016   \n",
       "3                           06.02.2016                             2016   \n",
       "4                09.12.2015-18.01.2016                             2016   \n",
       "..                                 ...                              ...   \n",
       "995                         29.10.2022                             2022   \n",
       "996                         07.11.2022                             2022   \n",
       "997                         08.11.2022                             2022   \n",
       "998                         09.11.2022                             2022   \n",
       "999                         10.11.2022                             2022   \n",
       "\n",
       "                         properties.attributes.WebSite  \\\n",
       "0    [{'is_deleted': 0, 'WebSite': 'vos.olimpiada.r...   \n",
       "1    [{'is_deleted': 0, 'WebSite': 'vos.olimpiada.r...   \n",
       "2    [{'is_deleted': 0, 'WebSite': 'olympiads.mccme...   \n",
       "3    [{'is_deleted': 0, 'WebSite': 'astroolymp.ru/'...   \n",
       "4    [{'is_deleted': 0, 'WebSite': 'astroolymp.ru/'...   \n",
       "..                                                 ...   \n",
       "995  [{'is_deleted': 0, 'WebSite': 'vos.olimpiada.r...   \n",
       "996  [{'is_deleted': 0, 'WebSite': 'vos.olimpiada.r...   \n",
       "997  [{'is_deleted': 0, 'WebSite': 'vos.olimpiada.r...   \n",
       "998  [{'is_deleted': 0, 'WebSite': 'vos.olimpiada.r...   \n",
       "999  [{'is_deleted': 0, 'WebSite': 'vos.olimpiada.r...   \n",
       "\n",
       "     properties.attributes.global_id properties.rowId  \\\n",
       "0                           39706536             None   \n",
       "1                           39706537             None   \n",
       "2                           39706538             None   \n",
       "3                           39706540             None   \n",
       "4                           39706541             None   \n",
       "..                               ...              ...   \n",
       "995                       2390260878             None   \n",
       "996                       2390260879             None   \n",
       "997                       2390260881             None   \n",
       "998                       2390260882             None   \n",
       "999                       2390260884             None   \n",
       "\n",
       "     properties.versionNumber  properties.releaseNumber  \n",
       "0                           2                        22  \n",
       "1                           2                        22  \n",
       "2                           2                        22  \n",
       "3                           2                        22  \n",
       "4                           2                        22  \n",
       "..                        ...                       ...  \n",
       "995                         2                        22  \n",
       "996                         2                        22  \n",
       "997                         2                        22  \n",
       "998                         2                        22  \n",
       "999                         2                        22  \n",
       "\n",
       "[1000 rows x 17 columns]"
      ]
     },
     "execution_count": 55,
     "metadata": {},
     "output_type": "execute_result"
    }
   ],
   "source": [
    "df"
   ]
  },
  {
   "cell_type": "code",
   "execution_count": 56,
   "metadata": {},
   "outputs": [
    {
     "name": "stdout",
     "output_type": "stream",
     "text": [
      "<class 'pandas.core.frame.DataFrame'>\n",
      "RangeIndex: 1000 entries, 0 to 999\n",
      "Data columns (total 17 columns):\n",
      " #   Column                                 Non-Null Count  Dtype  \n",
      "---  ------                                 --------------  -----  \n",
      " 0   geometry                               0 non-null      object \n",
      " 1   type                                   1000 non-null   object \n",
      " 2   properties.datasetId                   1000 non-null   int64  \n",
      " 3   properties.attributes.is_deleted       1000 non-null   int64  \n",
      " 4   properties.attributes.ID               1000 non-null   int64  \n",
      " 5   properties.attributes.OlympiadName     1000 non-null   object \n",
      " 6   properties.attributes.OlympiadProfile  1000 non-null   object \n",
      " 7   properties.attributes.OlympiadType     1000 non-null   object \n",
      " 8   properties.attributes.Class            1000 non-null   object \n",
      " 9   properties.attributes.Stage            744 non-null    float64\n",
      " 10  properties.attributes.OlympiadDate     1000 non-null   object \n",
      " 11  properties.attributes.SchoolYear       1000 non-null   object \n",
      " 12  properties.attributes.WebSite          1000 non-null   object \n",
      " 13  properties.attributes.global_id        1000 non-null   int64  \n",
      " 14  properties.rowId                       0 non-null      object \n",
      " 15  properties.versionNumber               1000 non-null   int64  \n",
      " 16  properties.releaseNumber               1000 non-null   int64  \n",
      "dtypes: float64(1), int64(6), object(10)\n",
      "memory usage: 132.9+ KB\n"
     ]
    }
   ],
   "source": [
    "df.info()"
   ]
  },
  {
   "cell_type": "code",
   "execution_count": 57,
   "metadata": {},
   "outputs": [],
   "source": [
    "df = df.drop(columns=df.columns[:4])\n",
    "df = df.iloc[:, :-5]"
   ]
  },
  {
   "cell_type": "code",
   "execution_count": 58,
   "metadata": {},
   "outputs": [],
   "source": [
    "df.rename(columns=lambda x: x.replace('properties.attributes.', ''), inplace=True)"
   ]
  },
  {
   "cell_type": "code",
   "execution_count": 59,
   "metadata": {},
   "outputs": [
    {
     "name": "stdout",
     "output_type": "stream",
     "text": [
      "<class 'pandas.core.frame.DataFrame'>\n",
      "RangeIndex: 1000 entries, 0 to 999\n",
      "Data columns (total 8 columns):\n",
      " #   Column           Non-Null Count  Dtype  \n",
      "---  ------           --------------  -----  \n",
      " 0   ID               1000 non-null   int64  \n",
      " 1   OlympiadName     1000 non-null   object \n",
      " 2   OlympiadProfile  1000 non-null   object \n",
      " 3   OlympiadType     1000 non-null   object \n",
      " 4   Class            1000 non-null   object \n",
      " 5   Stage            744 non-null    float64\n",
      " 6   OlympiadDate     1000 non-null   object \n",
      " 7   SchoolYear       1000 non-null   object \n",
      "dtypes: float64(1), int64(1), object(6)\n",
      "memory usage: 62.6+ KB\n"
     ]
    }
   ],
   "source": [
    "df.info()"
   ]
  },
  {
   "cell_type": "code",
   "execution_count": 60,
   "metadata": {},
   "outputs": [
    {
     "data": {
      "text/html": [
       "<div>\n",
       "<style scoped>\n",
       "    .dataframe tbody tr th:only-of-type {\n",
       "        vertical-align: middle;\n",
       "    }\n",
       "\n",
       "    .dataframe tbody tr th {\n",
       "        vertical-align: top;\n",
       "    }\n",
       "\n",
       "    .dataframe thead th {\n",
       "        text-align: right;\n",
       "    }\n",
       "</style>\n",
       "<table border=\"1\" class=\"dataframe\">\n",
       "  <thead>\n",
       "    <tr style=\"text-align: right;\">\n",
       "      <th></th>\n",
       "      <th>ID</th>\n",
       "      <th>OlympiadName</th>\n",
       "      <th>OlympiadProfile</th>\n",
       "      <th>OlympiadType</th>\n",
       "      <th>Class</th>\n",
       "      <th>Stage</th>\n",
       "      <th>OlympiadDate</th>\n",
       "      <th>SchoolYear</th>\n",
       "    </tr>\n",
       "  </thead>\n",
       "  <tbody>\n",
       "    <tr>\n",
       "      <th>0</th>\n",
       "      <td>43</td>\n",
       "      <td>Всероссийская олимпиада школьников по технологии</td>\n",
       "      <td>Технология</td>\n",
       "      <td>Всероссийская олимпиада</td>\n",
       "      <td>7 - 11</td>\n",
       "      <td>2.0</td>\n",
       "      <td>05.12.2015</td>\n",
       "      <td>2015</td>\n",
       "    </tr>\n",
       "    <tr>\n",
       "      <th>1</th>\n",
       "      <td>44</td>\n",
       "      <td>Всероссийская олимпиада школьников по технологии</td>\n",
       "      <td>Технология</td>\n",
       "      <td>Всероссийская олимпиада</td>\n",
       "      <td>9 - 11</td>\n",
       "      <td>3.0</td>\n",
       "      <td>01.02.2016-02.02.2016</td>\n",
       "      <td>2016</td>\n",
       "    </tr>\n",
       "    <tr>\n",
       "      <th>2</th>\n",
       "      <td>45</td>\n",
       "      <td>Математический праздник</td>\n",
       "      <td>Математика</td>\n",
       "      <td>Московская олимпиада</td>\n",
       "      <td>6 - 7</td>\n",
       "      <td>NaN</td>\n",
       "      <td>21.02.2016</td>\n",
       "      <td>2016</td>\n",
       "    </tr>\n",
       "  </tbody>\n",
       "</table>\n",
       "</div>"
      ],
      "text/plain": [
       "   ID                                      OlympiadName OlympiadProfile  \\\n",
       "0  43  Всероссийская олимпиада школьников по технологии      Технология   \n",
       "1  44  Всероссийская олимпиада школьников по технологии      Технология   \n",
       "2  45                           Математический праздник      Математика   \n",
       "\n",
       "              OlympiadType   Class  Stage           OlympiadDate SchoolYear  \n",
       "0  Всероссийская олимпиада  7 - 11    2.0             05.12.2015       2015  \n",
       "1  Всероссийская олимпиада  9 - 11    3.0  01.02.2016-02.02.2016       2016  \n",
       "2     Московская олимпиада   6 - 7    NaN             21.02.2016       2016  "
      ]
     },
     "execution_count": 60,
     "metadata": {},
     "output_type": "execute_result"
    }
   ],
   "source": [
    "df.head(3)"
   ]
  },
  {
   "cell_type": "code",
   "execution_count": 61,
   "metadata": {},
   "outputs": [
    {
     "data": {
      "text/html": [
       "<div>\n",
       "<style scoped>\n",
       "    .dataframe tbody tr th:only-of-type {\n",
       "        vertical-align: middle;\n",
       "    }\n",
       "\n",
       "    .dataframe tbody tr th {\n",
       "        vertical-align: top;\n",
       "    }\n",
       "\n",
       "    .dataframe thead th {\n",
       "        text-align: right;\n",
       "    }\n",
       "</style>\n",
       "<table border=\"1\" class=\"dataframe\">\n",
       "  <thead>\n",
       "    <tr style=\"text-align: right;\">\n",
       "      <th></th>\n",
       "      <th>ID</th>\n",
       "    </tr>\n",
       "    <tr>\n",
       "      <th>OlympiadProfile</th>\n",
       "      <th></th>\n",
       "    </tr>\n",
       "  </thead>\n",
       "  <tbody>\n",
       "    <tr>\n",
       "      <th>Предпрофессиональная олимпиада</th>\n",
       "      <td>72</td>\n",
       "    </tr>\n",
       "    <tr>\n",
       "      <th>Физика</th>\n",
       "      <td>58</td>\n",
       "    </tr>\n",
       "    <tr>\n",
       "      <th>Математика</th>\n",
       "      <td>51</td>\n",
       "    </tr>\n",
       "    <tr>\n",
       "      <th>Астрономия</th>\n",
       "      <td>49</td>\n",
       "    </tr>\n",
       "    <tr>\n",
       "      <th>Биология</th>\n",
       "      <td>41</td>\n",
       "    </tr>\n",
       "  </tbody>\n",
       "</table>\n",
       "</div>"
      ],
      "text/plain": [
       "                                ID\n",
       "OlympiadProfile                   \n",
       "Предпрофессиональная олимпиада  72\n",
       "Физика                          58\n",
       "Математика                      51\n",
       "Астрономия                      49\n",
       "Биология                        41"
      ]
     },
     "execution_count": 61,
     "metadata": {},
     "output_type": "execute_result"
    }
   ],
   "source": [
    "df1 = df.pivot_table(index='OlympiadProfile', values='ID', aggfunc='count').sort_values(by='ID', ascending=False).head()\n",
    "df1"
   ]
  },
  {
   "cell_type": "code",
   "execution_count": 62,
   "metadata": {},
   "outputs": [
    {
     "data": {
      "image/png": "[encoded data removed]",
      "text/plain": [
       "<Figure size 640x480 with 1 Axes>"
      ]
     },
     "metadata": {},
     "output_type": "display_data"
    }
   ],
   "source": [
    "df1.plot(kind='bar')\n",
    "plt.xticks(rotation=-60)\n",
    "plt.title('Топ-5 популярных профилей олимпиад')\n",
    "plt.show()"
   ]
  },
  {
   "cell_type": "code",
   "execution_count": 63,
   "metadata": {},
   "outputs": [
    {
     "data": {
      "text/html": [
       "<div>\n",
       "<style scoped>\n",
       "    .dataframe tbody tr th:only-of-type {\n",
       "        vertical-align: middle;\n",
       "    }\n",
       "\n",
       "    .dataframe tbody tr th {\n",
       "        vertical-align: top;\n",
       "    }\n",
       "\n",
       "    .dataframe thead th {\n",
       "        text-align: right;\n",
       "    }\n",
       "</style>\n",
       "<table border=\"1\" class=\"dataframe\">\n",
       "  <thead>\n",
       "    <tr style=\"text-align: right;\">\n",
       "      <th></th>\n",
       "      <th>ID</th>\n",
       "    </tr>\n",
       "    <tr>\n",
       "      <th>Class</th>\n",
       "      <th></th>\n",
       "    </tr>\n",
       "  </thead>\n",
       "  <tbody>\n",
       "    <tr>\n",
       "      <th>7 - 11</th>\n",
       "      <td>280</td>\n",
       "    </tr>\n",
       "    <tr>\n",
       "      <th>5 - 11</th>\n",
       "      <td>213</td>\n",
       "    </tr>\n",
       "    <tr>\n",
       "      <th>9 - 11</th>\n",
       "      <td>178</td>\n",
       "    </tr>\n",
       "    <tr>\n",
       "      <th>8 - 11</th>\n",
       "      <td>149</td>\n",
       "    </tr>\n",
       "    <tr>\n",
       "      <th>5 - 6</th>\n",
       "      <td>55</td>\n",
       "    </tr>\n",
       "  </tbody>\n",
       "</table>\n",
       "</div>"
      ],
      "text/plain": [
       "         ID\n",
       "Class      \n",
       "7 - 11  280\n",
       "5 - 11  213\n",
       "9 - 11  178\n",
       "8 - 11  149\n",
       "5 - 6    55"
      ]
     },
     "execution_count": 63,
     "metadata": {},
     "output_type": "execute_result"
    }
   ],
   "source": [
    "df2 = df.pivot_table(index='Class', values='ID', aggfunc='count').sort_values(by='ID', ascending=False).head()\n",
    "df2"
   ]
  },
  {
   "cell_type": "code",
   "execution_count": 64,
   "metadata": {},
   "outputs": [
    {
     "data": {
      "image/png": "[encoded data removed]",
      "text/plain": [
       "<Figure size 640x480 with 1 Axes>"
      ]
     },
     "metadata": {},
     "output_type": "display_data"
    }
   ],
   "source": [
    "df2.plot(kind='bar')\n",
    "plt.xticks(rotation=0)\n",
    "plt.title('Топ-5 популярных категорий классов')\n",
    "plt.show()"
   ]
  },
  {
   "cell_type": "code",
   "execution_count": 65,
   "metadata": {},
   "outputs": [
    {
     "data": {
      "text/html": [
       "<div>\n",
       "<style scoped>\n",
       "    .dataframe tbody tr th:only-of-type {\n",
       "        vertical-align: middle;\n",
       "    }\n",
       "\n",
       "    .dataframe tbody tr th {\n",
       "        vertical-align: top;\n",
       "    }\n",
       "\n",
       "    .dataframe thead th {\n",
       "        text-align: right;\n",
       "    }\n",
       "</style>\n",
       "<table border=\"1\" class=\"dataframe\">\n",
       "  <thead>\n",
       "    <tr style=\"text-align: right;\">\n",
       "      <th></th>\n",
       "      <th>ID</th>\n",
       "    </tr>\n",
       "    <tr>\n",
       "      <th>OlympiadType</th>\n",
       "      <th></th>\n",
       "    </tr>\n",
       "  </thead>\n",
       "  <tbody>\n",
       "    <tr>\n",
       "      <th>Всероссийская олимпиада</th>\n",
       "      <td>577</td>\n",
       "    </tr>\n",
       "    <tr>\n",
       "      <th>Московская олимпиада</th>\n",
       "      <td>414</td>\n",
       "    </tr>\n",
       "    <tr>\n",
       "      <th>Олимпиада «Музеи Парки Усадьбы»</th>\n",
       "      <td>9</td>\n",
       "    </tr>\n",
       "  </tbody>\n",
       "</table>\n",
       "</div>"
      ],
      "text/plain": [
       "                                  ID\n",
       "OlympiadType                        \n",
       "Всероссийская олимпиада          577\n",
       "Московская олимпиада             414\n",
       "Олимпиада «Музеи Парки Усадьбы»    9"
      ]
     },
     "execution_count": 65,
     "metadata": {},
     "output_type": "execute_result"
    }
   ],
   "source": [
    "df3 = df.pivot_table(index='OlympiadType', values='ID', aggfunc='count').sort_values(by='ID', ascending=False)\n",
    "df3"
   ]
  },
  {
   "cell_type": "code",
   "execution_count": 68,
   "metadata": {},
   "outputs": [
    {
     "data": {
      "image/png": "[encoded data removed]",
      "text/plain": [
       "<Figure size 640x480 with 1 Axes>"
      ]
     },
     "metadata": {},
     "output_type": "display_data"
    }
   ],
   "source": [
    "df3.plot(kind='pie', subplots=True, legend=False, autopct='%1.1f%%')\n",
    "plt.title('Типы олимпиад')\n",
    "plt.show()"
   ]
  },
  {
   "cell_type": "code",
   "execution_count": 69,
   "metadata": {},
   "outputs": [
    {
     "data": {
      "image/png": "[encoded data removed]",
      "text/plain": [
       "<IPython.core.display.Image object>"
      ]
     },
     "execution_count": 69,
     "metadata": {},
     "output_type": "execute_result"
    }
   ],
   "source": [
    "Image(filename=r'C:\\Users\\marin\\Downloads\\Задание 1.3.drawio.png')"
   ]
  }
 ],
 "metadata": {
  "colab": {
   "collapsed_sections": [
    "ay8fDlhJ-2UM",
    "L2HGb-AhpT0_",
    "P889_zJF-iam",
    "te7du-82_BGQ"
   ],
   "provenance": []
  },
  "kernelspec": {
   "display_name": "Python 3 (ipykernel)",
   "language": "python",
   "name": "python3"
  },
  "language_info": {
   "codemirror_mode": {
    "name": "ipython",
    "version": 3
   },
   "file_extension": ".py",
   "mimetype": "text/x-python",
   "name": "python",
   "nbconvert_exporter": "python",
   "pygments_lexer": "ipython3",
   "version": "3.11.5"
  }
 },
 "nbformat": 4,
 "nbformat_minor": 1
}
