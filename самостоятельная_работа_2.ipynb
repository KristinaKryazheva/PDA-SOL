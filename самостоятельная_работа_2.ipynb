{
  "cells": [
    {
      "cell_type": "markdown",
      "metadata": {
        "id": "view-in-github",
        "colab_type": "text"
      },
      "source": [
        "<a href=\"https://colab.research.google.com/github/KristinaKryazheva/PDA-SOL/blob/main/%D1%81%D0%B0%D0%BC%D0%BE%D1%81%D1%82%D0%BE%D1%8F%D1%82%D0%B5%D0%BB%D1%8C%D0%BD%D0%B0%D1%8F_%D1%80%D0%B0%D0%B1%D0%BE%D1%82%D0%B0_2.ipynb\" target=\"_parent\"><img src=\"https://colab.research.google.com/assets/colab-badge.svg\" alt=\"Open In Colab\"/></a>"
      ]
    },
    {
      "cell_type": "markdown",
      "metadata": {
        "id": "HCCuB80dkVgB"
      },
      "source": [
        "# Самостоятельная работа 2. Numpy\n",
        "\n",
        "1. Скачайте этот ноутбук к себе.\n",
        "2. Заполните пропущенные ячейки, отвечая на заданные вопросы. Там должен быть код! (если не сказано обратное)\n",
        "3. Сохраните результат в своём гитхаб репозитории.\n",
        "\n",
        "#### Полезная литература\n",
        "\n",
        "- http://www.numpy.org/\n",
        "- https://jakevdp.github.io/PythonDataScienceHandbook/02.00-introduction-to-numpy.html\n",
        "- https://docs.scipy.org/doc/numpy/user/quickstart.html"
      ]
    },
    {
      "cell_type": "markdown",
      "metadata": {
        "id": "8wxgc_IUkVgD"
      },
      "source": [
        "1) Импортировать numpy и написать версию"
      ]
    },
    {
      "cell_type": "code",
      "execution_count": 2,
      "metadata": {
        "colab": {
          "base_uri": "https://localhost:8080/"
        },
        "id": "YVEqoNi3kVgE",
        "outputId": "de3c8fab-1ad5-4fde-f711-5eb8bb20401c"
      },
      "outputs": [
        {
          "output_type": "stream",
          "name": "stdout",
          "text": [
            "1.23.5\n"
          ]
        }
      ],
      "source": [
        "import numpy as np\n",
        "print(np.__version__)"
      ]
    },
    {
      "cell_type": "markdown",
      "metadata": {
        "id": "bslONV9SkVgE"
      },
      "source": [
        "2) Создать нулевой вектор размера 10"
      ]
    },
    {
      "cell_type": "code",
      "execution_count": null,
      "metadata": {
        "colab": {
          "base_uri": "https://localhost:8080/"
        },
        "id": "_YNGfhPpkVgF",
        "outputId": "2d524cf4-4224-49b9-ae29-03a6985b3aa6"
      },
      "outputs": [
        {
          "output_type": "stream",
          "name": "stdout",
          "text": [
            "[0. 0. 0. 0. 0. 0. 0. 0. 0. 0.]\n"
          ]
        }
      ],
      "source": [
        "print(np.zeros(10))"
      ]
    },
    {
      "cell_type": "markdown",
      "metadata": {
        "id": "m6rNfGOUkVgG"
      },
      "source": [
        "3) Создать вектор заполненный 7-ами размера 7"
      ]
    },
    {
      "cell_type": "code",
      "execution_count": null,
      "metadata": {
        "colab": {
          "base_uri": "https://localhost:8080/"
        },
        "id": "-pCs4_KTkVgG",
        "outputId": "5aa7d17e-8f5a-4c1c-e2cb-0a446a538e1e"
      },
      "outputs": [
        {
          "output_type": "stream",
          "name": "stdout",
          "text": [
            "[7 7 7 7 7 7 7]\n"
          ]
        }
      ],
      "source": [
        "print(np.full(7,7))"
      ]
    },
    {
      "cell_type": "markdown",
      "metadata": {
        "id": "qNQFYY-ikVgG"
      },
      "source": [
        "4) Создать вектор заполненный четными числами от 10 до 100"
      ]
    },
    {
      "cell_type": "code",
      "execution_count": null,
      "metadata": {
        "colab": {
          "base_uri": "https://localhost:8080/"
        },
        "id": "QR9ApQ07kVgH",
        "outputId": "415de4fd-2018-48c7-a565-e0461854fdea"
      },
      "outputs": [
        {
          "output_type": "stream",
          "name": "stdout",
          "text": [
            "[ 10  12  14  16  18  20  22  24  26  28  30  32  34  36  38  40  42  44\n",
            "  46  48  50  52  54  56  58  60  62  64  66  68  70  72  74  76  78  80\n",
            "  82  84  86  88  90  92  94  96  98 100]\n"
          ]
        }
      ],
      "source": [
        "print(np.arange(10,101,2))"
      ]
    },
    {
      "cell_type": "markdown",
      "metadata": {
        "id": "eMrsNb8UkVgH"
      },
      "source": [
        "5) Создать массив случайных чисел и развернуть его задом наперёд"
      ]
    },
    {
      "cell_type": "code",
      "execution_count": null,
      "metadata": {
        "colab": {
          "base_uri": "https://localhost:8080/"
        },
        "id": "oHtVdLQPkVgH",
        "outputId": "b6738124-0526-401c-9d93-515c6d88a395"
      },
      "outputs": [
        {
          "output_type": "stream",
          "name": "stdout",
          "text": [
            "[0.96990479 0.36776207 0.36486089 0.34107437 0.50755679 0.28724371\n",
            " 0.34032862 0.65546091 0.9702305  0.7030385  0.48350319 0.49440815\n",
            " 0.54867431 0.73814631 0.45985946 0.86547691 0.99472757 0.02118703\n",
            " 0.96389481 0.07133888]\n",
            "[0.07133888 0.96389481 0.02118703 0.99472757 0.86547691 0.45985946\n",
            " 0.73814631 0.54867431 0.49440815 0.48350319 0.7030385  0.9702305\n",
            " 0.65546091 0.34032862 0.28724371 0.50755679 0.34107437 0.36486089\n",
            " 0.36776207 0.96990479]\n"
          ]
        }
      ],
      "source": [
        "array=np.random.random(20)\n",
        "print(array)\n",
        "print(np.flip(array))"
      ]
    },
    {
      "cell_type": "markdown",
      "metadata": {
        "id": "mnfCle5okVgH"
      },
      "source": [
        "6) Создать двумерную матрицу размера 3 на 3, заполненную числами от 0 до 9"
      ]
    },
    {
      "cell_type": "code",
      "execution_count": null,
      "metadata": {
        "colab": {
          "base_uri": "https://localhost:8080/"
        },
        "id": "dxDSE_lbkVgI",
        "outputId": "aff2d7b9-2a26-4fec-a9f4-cf09a3d57da1"
      },
      "outputs": [
        {
          "output_type": "stream",
          "name": "stdout",
          "text": [
            "[[0 1 2]\n",
            " [3 4 5]\n",
            " [6 7 8]]\n"
          ]
        }
      ],
      "source": [
        "print(np.arange(9).reshape((3,3)))"
      ]
    },
    {
      "cell_type": "markdown",
      "metadata": {
        "id": "b_QHSdY5kVgI"
      },
      "source": [
        "7) Создать матрицу размера 4 на 4 с единицами на диагонали смещеной на один наверх."
      ]
    },
    {
      "cell_type": "code",
      "execution_count": null,
      "metadata": {
        "colab": {
          "base_uri": "https://localhost:8080/"
        },
        "id": "utW1ZqBEkVgI",
        "outputId": "7d1d6257-25e1-46cf-d20a-81e34bb1d670"
      },
      "outputs": [
        {
          "output_type": "stream",
          "name": "stdout",
          "text": [
            "[[0. 1. 0. 0.]\n",
            " [0. 0. 1. 0.]\n",
            " [0. 0. 0. 1.]\n",
            " [0. 0. 0. 0.]]\n"
          ]
        }
      ],
      "source": [
        "print(np.eye(4,k=1))"
      ]
    },
    {
      "cell_type": "markdown",
      "metadata": {
        "id": "BsHkYec3kVgI"
      },
      "source": [
        "8) Создать матрицу с числами в диапазоне от 1 до 4 по диагонали. В других ячейках матрицы должны быть семерки."
      ]
    },
    {
      "cell_type": "code",
      "execution_count": null,
      "metadata": {
        "colab": {
          "base_uri": "https://localhost:8080/"
        },
        "id": "XBh_SwfRkVgI",
        "outputId": "da5eb8f6-3686-4bf9-9b10-9cbfc55fe2ec"
      },
      "outputs": [
        {
          "output_type": "stream",
          "name": "stdout",
          "text": [
            "[[1 7 7 7]\n",
            " [7 2 7 7]\n",
            " [7 7 3 7]\n",
            " [7 7 7 4]]\n"
          ]
        }
      ],
      "source": [
        "matrix=np.diag([1,2,3,4])\n",
        "matrix[matrix == 0] = 7\n",
        "print(matrix)"
      ]
    },
    {
      "cell_type": "markdown",
      "metadata": {
        "id": "A1PoLd_5kVgJ"
      },
      "source": [
        "9) Создать матрицу размера 5 на 5 заполненную чилами от 0 до 4 в строках."
      ]
    },
    {
      "cell_type": "code",
      "execution_count": null,
      "metadata": {
        "colab": {
          "base_uri": "https://localhost:8080/"
        },
        "id": "5IrZzU-VkVgJ",
        "outputId": "646d01f4-b6d3-4c41-d502-92faf9bc8e5e"
      },
      "outputs": [
        {
          "output_type": "stream",
          "name": "stdout",
          "text": [
            "[[0 1 2 3 4]\n",
            " [0 1 2 3 4]\n",
            " [0 1 2 3 4]\n",
            " [0 1 2 3 4]\n",
            " [0 1 2 3 4]]\n"
          ]
        }
      ],
      "source": [
        "print(np.tile(np.arange(5), (5, 1)))\n"
      ]
    },
    {
      "cell_type": "markdown",
      "metadata": {
        "id": "VUvmmUGOkVgJ"
      },
      "source": [
        "10) Создать матрицу случайных чисел размера 10 на 10 и отнять среднее по строкам из каждого элемента строки"
      ]
    },
    {
      "cell_type": "code",
      "execution_count": 5,
      "metadata": {
        "id": "GzUbEuEKkVgJ",
        "colab": {
          "base_uri": "https://localhost:8080/"
        },
        "outputId": "71d7894d-e4d3-48b2-a231-60334ac6bb61"
      },
      "outputs": [
        {
          "output_type": "stream",
          "name": "stdout",
          "text": [
            "[[-0.0873112  -0.40068603  0.2019376   0.06232055  0.33046547  0.15677803\n",
            "  -0.40507253 -0.33641535  0.26867618  0.20930728]\n",
            " [ 0.06095216 -0.38492427  0.10885014  0.21837985  0.31862687 -0.36650846\n",
            "   0.2978971  -0.45345493  0.0279761   0.17220544]\n",
            " [-0.27053844 -0.23916371  0.5071954  -0.17354665  0.04378933  0.36321509\n",
            "  -0.13218745  0.05824628  0.0615047  -0.21851455]\n",
            " [ 0.28879199  0.10693402  0.03779072 -0.28703155  0.07539053  0.31838023\n",
            "  -0.50106803  0.00199084  0.26964814 -0.3108269 ]\n",
            " [ 0.21403434  0.22165146  0.04223692 -0.31222939 -0.19931463 -0.18314327\n",
            "   0.24227567 -0.32351686 -0.04704722  0.34505299]\n",
            " [-0.33650769 -0.05901239 -0.20025799 -0.24711706  0.09036066  0.46747984\n",
            "  -0.04172312 -0.31453211  0.19117964  0.45013021]\n",
            " [ 0.42809366  0.13306326 -0.11968154 -0.39470663  0.32859229 -0.06631613\n",
            "  -0.17516825 -0.32405861 -0.19169588  0.38187783]\n",
            " [ 0.00470505  0.00788848 -0.21227489  0.39896481 -0.48380997  0.10313958\n",
            "   0.40204084  0.36225975 -0.28103318 -0.30188046]\n",
            " [ 0.29770794 -0.12593449 -0.07812494  0.36921194 -0.05375798 -0.11693365\n",
            "  -0.11262521 -0.4814881   0.2201725   0.08177199]\n",
            " [-0.06853151  0.03491917 -0.16674028  0.41369522 -0.20516024 -0.27627096\n",
            "  -0.01092956 -0.14130522  0.00393673  0.41638665]]\n"
          ]
        }
      ],
      "source": [
        "matrix = np.random.rand(10, 10)\n",
        "# среднее по каждой строке\n",
        "row_means = matrix.mean(axis=1)\n",
        "# вычитание среднего\n",
        "matrix -= row_means.reshape((-1, 1))\n",
        "print(matrix)"
      ]
    },
    {
      "cell_type": "markdown",
      "metadata": {
        "id": "P6jN6-nVkVgJ"
      },
      "source": [
        "11) Создать матрицу случайных чисел размера 10 на 10 и отнять медиану по столбцам из каждого элемента столбца  "
      ]
    },
    {
      "cell_type": "code",
      "execution_count": null,
      "metadata": {
        "colab": {
          "base_uri": "https://localhost:8080/"
        },
        "id": "irQHggbAkVgK",
        "outputId": "8a2924e6-7f63-4771-c89b-3205bd53b606"
      },
      "outputs": [
        {
          "output_type": "stream",
          "name": "stdout",
          "text": [
            "[[-0.0743048   0.38766244 -0.33523075 -0.2197216  -0.47564221 -0.03567871\n",
            "   0.07696077  0.45269902  0.16741606  0.39526795]\n",
            " [ 0.12538494  0.0860054   0.18509132 -0.19700644 -0.11079976  0.50206436\n",
            "  -0.54503942  0.53814889 -0.41396649  0.5251102 ]\n",
            " [-0.03992556 -0.1821867   0.0944693   0.34163225  0.26899673  0.03567871\n",
            "  -0.40874114  0.73774584  0.06259461 -0.43539451]\n",
            " [-0.52241341  0.40480477  0.11109049  0.5309315  -0.15395921 -0.04599648\n",
            "   0.10014395 -0.0408266   0.05164934  0.13997376]\n",
            " [ 0.09549508 -0.17908047 -0.0869739   0.11419898 -0.07628233  0.04348362\n",
            "   0.23632543  0.69215993 -0.36818558 -0.02717828]\n",
            " [ 0.10190218  0.28936741 -0.31746805 -0.01244158  0.14550716 -0.18081237\n",
            "  -0.26610516 -0.24031197  0.20342743  0.02717828]\n",
            " [ 0.21205342 -0.41505349 -0.20923141  0.50941837  0.18617111 -0.13282469\n",
            "   0.17158806 -0.18041896  0.11769964 -0.30244399]\n",
            " [-0.43326841  0.24988441 -0.28831823  0.01244158  0.07628233  0.47683356\n",
            "   0.18938842  0.0408266  -0.05164934  0.43722457]\n",
            " [ 0.03992556 -0.0860054   0.16177207 -0.07207459 -0.15353076  0.3448999\n",
            "  -0.37386192 -0.07393342 -0.30797545 -0.14382645]\n",
            " [-0.36486055 -0.51235284  0.0869739  -0.1866892   0.33492322 -0.30535546\n",
            "  -0.07696077 -0.05947393 -0.3300935  -0.42332472]]\n"
          ]
        }
      ],
      "source": [
        "matrix = np.random.rand(10, 10)\n",
        "\n",
        "# медиана по столбцам\n",
        "medians = np.median(matrix, axis=0)\n",
        "print(matrix - medians)\n",
        "\n"
      ]
    },
    {
      "cell_type": "markdown",
      "metadata": {
        "id": "f5L-5hyykVgK"
      },
      "source": [
        "12) Создать матрицу случайных чисел 5x5. Добавить к ней столбецы максимумов и минимумов по строкам. Получится матрица 5x7.  "
      ]
    },
    {
      "cell_type": "code",
      "source": [
        "matrix = np.random.rand(5, 5)\n",
        "\n",
        "max_values = np.max(matrix, axis=1)\n",
        "min_values = np.min(matrix, axis=1)\n",
        "\n",
        "max_column = np.expand_dims(max_values, axis=1)\n",
        "min_column = np.expand_dims(min_values, axis=1)\n",
        "\n",
        "#соединение по столбцам\n",
        "result_matrix = np.hstack((matrix, max_column, min_column))\n",
        "\n",
        "print(result_matrix)"
      ],
      "metadata": {
        "colab": {
          "base_uri": "https://localhost:8080/"
        },
        "id": "NQTjN8zctoWU",
        "outputId": "16233a85-4b5a-4717-ee91-394c0334e20b"
      },
      "execution_count": null,
      "outputs": [
        {
          "output_type": "stream",
          "name": "stdout",
          "text": [
            "[[0.61963794 0.83401538 0.49717675 0.48575824 0.91730181 0.91730181\n",
            "  0.48575824]\n",
            " [0.44909404 0.30295082 0.17934103 0.14835379 0.80122422 0.80122422\n",
            "  0.14835379]\n",
            " [0.21730894 0.42485177 0.74157332 0.74908545 0.2668228  0.74908545\n",
            "  0.21730894]\n",
            " [0.93654341 0.29063278 0.66334617 0.1966524  0.76130841 0.93654341\n",
            "  0.1966524 ]\n",
            " [0.15006146 0.77975739 0.48677839 0.96950274 0.98912052 0.98912052\n",
            "  0.15006146]]\n"
          ]
        }
      ]
    },
    {
      "cell_type": "markdown",
      "metadata": {
        "id": "o1D-Hc_ekVgK"
      },
      "source": [
        "13) Вектор чисел от 1 до 51 преобразовать в вектор нечетных чисел и в вектор четных чисел, поменять их размерности, чтобы получились две матрица. Найти произведение этих матриц. Найти обратную матрицу эётого произведения.  "
      ]
    },
    {
      "cell_type": "code",
      "execution_count": 18,
      "metadata": {
        "colab": {
          "base_uri": "https://localhost:8080/"
        },
        "id": "-CFYPRbJkVgK",
        "outputId": "ba8459fd-8178-48d9-c4fa-cec19ddf616a"
      },
      "outputs": [
        {
          "output_type": "stream",
          "name": "stdout",
          "text": [
            "Исходные векторы:\n",
            "Вектор нечетных чисел: [ 1  3  5  7  9 11 13 15 17 19 21 23 25 27 29 31 33 35 37 39 41 43 45 47\n",
            " 49]\n",
            "Вектор четных чисел: [ 2  4  6  8 10 12 14 16 18 20 22 24 26 28 30 32 34 36 38 40 42 44 46 48\n",
            " 50]\n",
            "Матрица нечетных чисел:\n",
            "[[ 1  3  5  7  9]\n",
            " [11 13 15 17 19]\n",
            " [21 23 25 27 29]\n",
            " [31 33 35 37 39]\n",
            " [41 43 45 47 49]]\n",
            "Матрица четных чисел:\n",
            "[[ 2  4  6  8 10]\n",
            " [12 14 16 18 20]\n",
            " [22 24 26 28 30]\n",
            " [32 34 36 38 40]\n",
            " [42 44 46 48 50]]\n",
            "Произведение матриц:\n",
            "[[ 750  800  850  900  950]\n",
            " [1850 2000 2150 2300 2450]\n",
            " [2950 3200 3450 3700 3950]\n",
            " [4050 4400 4750 5100 5450]\n",
            " [5150 5600 6050 6500 6950]]\n",
            "Определитель матрицы:\n",
            "0.0\n"
          ]
        }
      ],
      "source": [
        "\n",
        "vector = np.arange(1, 52)\n",
        "\n",
        "# нечетные числа\n",
        "nechet_vector = vector[vector % 2 == 1]\n",
        "#удаляем последнее значение, чтобы получить матрицы одинакового размера\n",
        "nechet_vector = np.delete(nechet_vector, -1)\n",
        "\n",
        "# четные числа\n",
        "chet_vector = vector[vector % 2 == 0]\n",
        "\n",
        "\n",
        "nechet_matrix = nechet_vector.reshape(5, 5)\n",
        "chet_matrix = chet_vector.reshape(5, 5)\n",
        "\n",
        "\n",
        "# произведение матриц\n",
        "proizv_matrix = np.matmul(nechet_matrix, chet_matrix)\n",
        "\n",
        "# обратная матрица\n",
        "#reverse_matrix = np.linalg.inv(proizv_matrix)\n",
        "\n",
        "# определитель матрицы\n",
        "det_m = np.linalg.det(proizv_matrix)\n",
        "\n",
        "print(\"Исходные векторы:\")\n",
        "print(\"Вектор нечетных чисел:\", nechet_vector)\n",
        "print(\"Вектор четных чисел:\", chet_vector)\n",
        "print(\"Матрица нечетных чисел:\")\n",
        "print(nechet_matrix)\n",
        "print(\"Матрица четных чисел:\")\n",
        "print(chet_matrix)\n",
        "print(\"Произведение матриц:\")\n",
        "print(proizv_matrix)\n",
        "print(\"Определитель матрицы:\")\n",
        "#print(reverse_matrix)\n",
        "print(det_m)"
      ]
    },
    {
      "cell_type": "markdown",
      "metadata": {
        "id": "XKQpyJJTkVgL"
      },
      "source": [
        "14) Создать 8x8 матрицу и заполнить её в шахматном порядке нулями и единицами."
      ]
    },
    {
      "cell_type": "code",
      "execution_count": null,
      "metadata": {
        "id": "NwkXbnwdkVgL",
        "colab": {
          "base_uri": "https://localhost:8080/"
        },
        "outputId": "62a050a9-7303-4c28-9fa9-121e8015d519"
      },
      "outputs": [
        {
          "output_type": "stream",
          "name": "stdout",
          "text": [
            "[[0 1 0 1 0 1 0 1]\n",
            " [1 0 1 0 1 0 1 0]\n",
            " [0 1 0 1 0 1 0 1]\n",
            " [1 0 1 0 1 0 1 0]\n",
            " [0 1 0 1 0 1 0 1]\n",
            " [1 0 1 0 1 0 1 0]\n",
            " [0 1 0 1 0 1 0 1]\n",
            " [1 0 1 0 1 0 1 0]]\n"
          ]
        }
      ],
      "source": [
        "tile = np.array([[0, 1], [1, 0]])\n",
        "matrix = np.tile(tile, (4, 4))\n",
        "print(matrix)"
      ]
    }
  ],
  "metadata": {
    "kernelspec": {
      "display_name": "Python 3",
      "language": "python",
      "name": "python3"
    },
    "language_info": {
      "codemirror_mode": {
        "name": "ipython",
        "version": 3
      },
      "file_extension": ".py",
      "mimetype": "text/x-python",
      "name": "python",
      "nbconvert_exporter": "python",
      "pygments_lexer": "ipython3",
      "version": "3.8.0"
    },
    "colab": {
      "provenance": [],
      "include_colab_link": true
    }
  },
  "nbformat": 4,
  "nbformat_minor": 0
}