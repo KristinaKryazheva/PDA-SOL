{
  "nbformat": 4,
  "nbformat_minor": 0,
  "metadata": {
    "colab": {
      "provenance": [],
      "authorship_tag": "ABX9TyOb7wEy7gDQCV5dXUu/2VVj",
      "include_colab_link": true
    },
    "kernelspec": {
      "name": "python3",
      "display_name": "Python 3"
    },
    "language_info": {
      "name": "python"
    }
  },
  "cells": [
    {
      "cell_type": "markdown",
      "metadata": {
        "id": "view-in-github",
        "colab_type": "text"
      },
      "source": [
        "<a href=\"https://colab.research.google.com/github/KristinaKryazheva/PDA-SOL/blob/main/%D1%81%D0%B0%D0%BC%D0%BE%D1%81%D1%82%D0%BE%D1%8F%D1%82%D0%B5%D0%BB%D1%8C%D0%BD%D0%B0%D1%8F_%D1%80%D0%B0%D0%B1%D0%BE%D1%82%D0%B0_1.ipynb\" target=\"_parent\"><img src=\"https://colab.research.google.com/assets/colab-badge.svg\" alt=\"Open In Colab\"/></a>"
      ]
    },
    {
      "cell_type": "code",
      "execution_count": 1,
      "metadata": {
        "colab": {
          "base_uri": "https://localhost:8080/"
        },
        "id": "ddh2hJ9WXLAR",
        "outputId": "4dfb605d-13ac-4d99-d176-343a697e7678"
      },
      "outputs": [
        {
          "output_type": "stream",
          "name": "stdout",
          "text": [
            "К\n",
            "р\n",
            "я\n",
            "ж\n",
            "е\n",
            "в\n",
            "а\n",
            " \n",
            "К\n",
            "р\n",
            "и\n",
            "с\n",
            "т\n",
            "и\n",
            "н\n",
            "а\n",
            " \n",
            "С\n",
            "е\n",
            "р\n",
            "г\n",
            "е\n",
            "е\n",
            "в\n",
            "н\n",
            "а\n"
          ]
        }
      ],
      "source": [
        "for i in 'Кряжева Кристина Сергеевна':\n",
        "  print(i)"
      ]
    },
    {
      "cell_type": "code",
      "source": [
        "def ruble_to_yen(amount):\n",
        "    exchange_rate = 1.55\n",
        "    yen_amount = round(amount * exchange_rate, 2)\n",
        "    return yen_amount\n",
        "ruble_amount = 1000\n",
        "yen_amount = ruble_to_yen(ruble_amount)\n",
        "print(f\"{ruble_amount} рублей равно {yen_amount} йен\")"
      ],
      "metadata": {
        "colab": {
          "base_uri": "https://localhost:8080/"
        },
        "id": "B0qwOMBbXamp",
        "outputId": "f77f0edf-86b4-47a5-c32b-20b01cc6b5b6"
      },
      "execution_count": 6,
      "outputs": [
        {
          "output_type": "stream",
          "name": "stdout",
          "text": [
            "1000 рублей равно 1550.0 йен\n"
          ]
        }
      ]
    }
  ]
}